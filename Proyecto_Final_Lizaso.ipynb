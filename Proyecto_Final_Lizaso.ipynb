{
  "nbformat": 4,
  "nbformat_minor": 0,
  "metadata": {
    "colab": {
      "provenance": [],
      "toc_visible": true,
      "authorship_tag": "ABX9TyM7qbPgB6aYBYho59yG0XZ/",
      "include_colab_link": true
    },
    "kernelspec": {
      "name": "python3",
      "display_name": "Python 3"
    },
    "language_info": {
      "name": "python"
    }
  },
  "cells": [
    {
      "cell_type": "markdown",
      "metadata": {
        "id": "view-in-github",
        "colab_type": "text"
      },
      "source": [
        "<a href=\"https://colab.research.google.com/github/PaulaLizasoR/CoderHouse/blob/main/Proyecto_Final_Lizaso.ipynb\" target=\"_parent\"><img src=\"https://colab.research.google.com/assets/colab-badge.svg\" alt=\"Open In Colab\"/></a>"
      ]
    },
    {
      "cell_type": "markdown",
      "source": [
        "# Proyecto Final Data Science I : Deserciones de personal"
      ],
      "metadata": {
        "id": "kA8AX1kAM5jI"
      }
    },
    {
      "cell_type": "markdown",
      "source": [
        "## **Introducción**"
      ],
      "metadata": {
        "id": "Xw1kGtP-NEqs"
      }
    },
    {
      "cell_type": "markdown",
      "source": [
        "En el entorno corporativo actual la retención de talento se ha convertido en una prioridad estratégica para las organizaciones. La renuncia de empleados no solo implica la pérdida de conocimiento y habilidades valiosas, sino que también conlleva costos significativos relacionados con el reclutamiento y la formación de nuevos colaboradores. Este proyecto tiene como objetivo analizar un conjunto de datos de empleados para identificar patrones y factores que puedan predecir la probabilidad de renuncia. A través de un análisis de las variables relacionadas con el desempeño, la satisfacción y las características demográficas, se busca proporcionar información valiosa que permita al departamento de recursos humanos implementar estrategias efectivas para mejorar la retención de empleados."
      ],
      "metadata": {
        "id": "4lefg7I3NIB9"
      }
    },
    {
      "cell_type": "markdown",
      "source": [
        "### Hipótesis"
      ],
      "metadata": {
        "id": "xY9vjB8qNK0G"
      }
    },
    {
      "cell_type": "markdown",
      "source": [
        "Se plantea la hipótesis de que los empleados que presentan niveles de satisfacción laboral y posibilidades de ascenso bajos en entornos con alta carga laboral (como podría ser un número elevado de horas extras) tienen una mayor probabilidad de renunciar."
      ],
      "metadata": {
        "id": "_-x9UJm0NNTq"
      }
    },
    {
      "cell_type": "markdown",
      "source": [
        "### Objetivo"
      ],
      "metadata": {
        "id": "ZMJOSoAnNQDu"
      }
    },
    {
      "cell_type": "markdown",
      "source": [
        "El objetivo principal de este proyecto es desarrollar un modelo predictivo que evalúe la probabilidad de renuncia de los empleados en una empresa."
      ],
      "metadata": {
        "id": "MxD_xoV6NTUO"
      }
    },
    {
      "cell_type": "markdown",
      "source": [
        "### Glosario"
      ],
      "metadata": {
        "id": "AcgUkBmbNWRE"
      }
    },
    {
      "cell_type": "markdown",
      "source": [
        "* Employee ID: Identificador de empleado.\n",
        "* Age: Edad del empleado.\n",
        "* Gender: Género del empleado.\n",
        "* Years at Company: Años que el empleado lleva trabajando para la empresa.\n",
        "* Monthly Income: Salario mensual en dólares (USD).\n",
        "* Job Role: El departamento o función en el que trabaja el empleado, codificado en categorías como Finanzas, Sanidad, Tecnología, Educación y Medios de comunicación.\n",
        "* Work-Life Balance: Equilibrio percibido por el empleado entre trabajo y vida personal, (Poor, Below Average, Good, Excellent)\n",
        "* Job Satisfaction: La satisfacción del empleado con su trabajo: (Very Low, Low, Medium, High)\n",
        "* Performance Rating: La calificación del rendimiento del empleado: (Low, Below Average, Average, High)\n",
        "* Number of Promotions: El número total de promociones que ha recibido el empleado.\n",
        "* Distance from Home: La distancia entre el domicilio del trabajador y su lugar de trabajo, en millas.\n",
        "* Education Level: Nivel educativo más alto alcanzado por el empleado: (High School, Associate Degree, Bachelor’s Degree, Master’s Degree, PhD)\n",
        "* Marital Status: El estado civil del empleado: (Divorced, Married, Single)\n",
        "* Job Level: El nivel laboral del empleado: (Entry, Mid, Senior)\n",
        "* Company Size: El tamaño de la empresa para la que trabaja el empleado: (Small,Medium,Large)\n",
        "* Company Tenure: El número total de años que el empleado lleva trabajando en el sector.\n",
        "* Remote Work: Si el empleado trabaja de forma remota: (Yes or No)\n",
        "* Leadership Opportunities: Si el empleado tiene oportunidades de liderazgo: (Yes or No)\n",
        "* Innovation Opportunities: Si el empleado tiene oportunidades para innovar: (Yes or No)\n",
        "* Company Reputation: La percepción que tienen los empleados de la reputación de la empresa: (Very Poor, Poor,Good, Excellent)\n",
        "* Employee Recognition: El nivel de reconocimiento que recibe el empleado:(Very Low, Low, Medium, High)\n",
        "* Attrition: Si el empleado ha dejado la empresa, codificado como 0 (se ha quedado) y 1 (ha renunciado)."
      ],
      "metadata": {
        "id": "IxVE1QHRNYUF"
      }
    },
    {
      "cell_type": "markdown",
      "source": [
        "### Fuente"
      ],
      "metadata": {
        "id": "4HLzjuI_NYRt"
      }
    },
    {
      "cell_type": "markdown",
      "source": [
        "La base de datos se obtuvo de la plataforma Kaggle.\n",
        "Fuente : https://www.kaggle.com/datasets/stealthtechnologies/employee-attrition-dataset?select=test.csv"
      ],
      "metadata": {
        "id": "V3GQdgxzNi2e"
      }
    },
    {
      "cell_type": "markdown",
      "source": [
        "## **Importaciones**"
      ],
      "metadata": {
        "id": "KurVLUI9NpRe"
      }
    },
    {
      "cell_type": "code",
      "execution_count": 1,
      "metadata": {
        "colab": {
          "base_uri": "https://localhost:8080/"
        },
        "id": "16eyoD7HKHWq",
        "outputId": "8b28f477-a135-4ad7-bed4-a6b1377ed8e5"
      },
      "outputs": [
        {
          "output_type": "stream",
          "name": "stdout",
          "text": [
            "Drive already mounted at /content/gdrive; to attempt to forcibly remount, call drive.mount(\"/content/gdrive\", force_remount=True).\n",
            "/content/gdrive/MyDrive/Curso Coderhouse/Machine Learning I/Base de Datos\n"
          ]
        }
      ],
      "source": [
        "from google.colab import drive\n",
        "import os\n",
        "drive.mount('/content/gdrive')\n",
        "%cd '/content/gdrive/MyDrive/Curso Coderhouse/Machine Learning I/Base de Datos'"
      ]
    },
    {
      "cell_type": "code",
      "source": [
        "import pandas as pd\n",
        "import numpy as np\n",
        "import matplotlib as mpl\n",
        "import matplotlib.pyplot as plt\n",
        "import seaborn as sns\n"
      ],
      "metadata": {
        "id": "Qz7PPOVeKYHZ"
      },
      "execution_count": 2,
      "outputs": []
    },
    {
      "cell_type": "code",
      "source": [
        "train_df = pd.read_csv('/content/gdrive/MyDrive/Curso Coderhouse/Machine Learning I/Base de Datos/train.csv')\n",
        "test_df = pd.read_csv('/content/gdrive/MyDrive/Curso Coderhouse/Machine Learning I/Base de Datos/test.csv')"
      ],
      "metadata": {
        "id": "9dXXB0KZKadK"
      },
      "execution_count": 3,
      "outputs": []
    },
    {
      "cell_type": "code",
      "source": [
        "# Creo un nuevo dataframe con ambos cvs\n",
        "data = pd.concat([train_df, test_df], ignore_index=True)"
      ],
      "metadata": {
        "id": "qF5TsXWPKrgZ"
      },
      "execution_count": 4,
      "outputs": []
    },
    {
      "cell_type": "markdown",
      "source": [
        "## **Transformación y limpieza de datos**"
      ],
      "metadata": {
        "id": "vLtwRaQ8P2nj"
      }
    },
    {
      "cell_type": "code",
      "source": [
        "#Comenzamos viendo la base de datos completa\n",
        "data"
      ],
      "metadata": {
        "colab": {
          "base_uri": "https://localhost:8080/",
          "height": 513
        },
        "id": "yj6E5jVXP0I9",
        "outputId": "1bd622b5-4bab-474e-8b8d-ab7d7689ba94"
      },
      "execution_count": 5,
      "outputs": [
        {
          "output_type": "execute_result",
          "data": {
            "text/plain": [
              "       Employee ID  Age  Gender  Years at Company    Job Role  Monthly Income  \\\n",
              "0             8410   31    Male                19   Education            5390   \n",
              "1            64756   59  Female                 4       Media            5534   \n",
              "2            30257   24  Female                10  Healthcare            8159   \n",
              "3            65791   36  Female                 7   Education            3989   \n",
              "4            65026   56    Male                41   Education            4821   \n",
              "...            ...  ...     ...               ...         ...             ...   \n",
              "74493        16243   56  Female                42  Healthcare            7830   \n",
              "74494        47175   30  Female                15   Education            3856   \n",
              "74495        12409   52    Male                 5   Education            5654   \n",
              "74496         9554   18    Male                 4   Education            5276   \n",
              "74497        73042   59  Female                48   Education            3774   \n",
              "\n",
              "      Work-Life Balance Job Satisfaction Performance Rating  \\\n",
              "0             Excellent           Medium            Average   \n",
              "1                  Poor             High                Low   \n",
              "2                  Good             High                Low   \n",
              "3                  Good             High               High   \n",
              "4                  Fair        Very High            Average   \n",
              "...                 ...              ...                ...   \n",
              "74493              Poor           Medium            Average   \n",
              "74494              Good           Medium            Average   \n",
              "74495              Good        Very High      Below Average   \n",
              "74496              Fair             High            Average   \n",
              "74497              Good             High      Below Average   \n",
              "\n",
              "       Number of Promotions  ... Number of Dependents  Job Level Company Size  \\\n",
              "0                         2  ...                    0        Mid       Medium   \n",
              "1                         3  ...                    3        Mid       Medium   \n",
              "2                         0  ...                    3        Mid       Medium   \n",
              "3                         1  ...                    2        Mid        Small   \n",
              "4                         0  ...                    0     Senior       Medium   \n",
              "...                     ...  ...                  ...        ...          ...   \n",
              "74493                     0  ...                    0     Senior       Medium   \n",
              "74494                     2  ...                    0      Entry       Medium   \n",
              "74495                     0  ...                    4        Mid        Small   \n",
              "74496                     0  ...                    3        Mid        Large   \n",
              "74497                     1  ...                    4        Mid        Large   \n",
              "\n",
              "      Company Tenure  Remote Work Leadership Opportunities  \\\n",
              "0                 89           No                       No   \n",
              "1                 21           No                       No   \n",
              "2                 74           No                       No   \n",
              "3                 50          Yes                       No   \n",
              "4                 68           No                       No   \n",
              "...              ...          ...                      ...   \n",
              "74493             60           No                       No   \n",
              "74494             20           No                       No   \n",
              "74495              7           No                       No   \n",
              "74496              5           No                       No   \n",
              "74497            118           No                       No   \n",
              "\n",
              "      Innovation Opportunities  Company Reputation Employee Recognition  \\\n",
              "0                           No           Excellent               Medium   \n",
              "1                           No                Fair                  Low   \n",
              "2                           No                Poor                  Low   \n",
              "3                           No                Good               Medium   \n",
              "4                           No                Fair               Medium   \n",
              "...                        ...                 ...                  ...   \n",
              "74493                       No                Poor               Medium   \n",
              "74494                       No                Good               Medium   \n",
              "74495                       No                Good                 High   \n",
              "74496                       No                Poor                 High   \n",
              "74497                       No                Good            Very High   \n",
              "\n",
              "      Attrition  \n",
              "0        Stayed  \n",
              "1        Stayed  \n",
              "2        Stayed  \n",
              "3        Stayed  \n",
              "4        Stayed  \n",
              "...         ...  \n",
              "74493    Stayed  \n",
              "74494      Left  \n",
              "74495      Left  \n",
              "74496    Stayed  \n",
              "74497      Left  \n",
              "\n",
              "[74498 rows x 24 columns]"
            ],
            "text/html": [
              "\n",
              "  <div id=\"df-0925092d-91db-4dd1-ac6a-a2d9ff44ba23\" class=\"colab-df-container\">\n",
              "    <div>\n",
              "<style scoped>\n",
              "    .dataframe tbody tr th:only-of-type {\n",
              "        vertical-align: middle;\n",
              "    }\n",
              "\n",
              "    .dataframe tbody tr th {\n",
              "        vertical-align: top;\n",
              "    }\n",
              "\n",
              "    .dataframe thead th {\n",
              "        text-align: right;\n",
              "    }\n",
              "</style>\n",
              "<table border=\"1\" class=\"dataframe\">\n",
              "  <thead>\n",
              "    <tr style=\"text-align: right;\">\n",
              "      <th></th>\n",
              "      <th>Employee ID</th>\n",
              "      <th>Age</th>\n",
              "      <th>Gender</th>\n",
              "      <th>Years at Company</th>\n",
              "      <th>Job Role</th>\n",
              "      <th>Monthly Income</th>\n",
              "      <th>Work-Life Balance</th>\n",
              "      <th>Job Satisfaction</th>\n",
              "      <th>Performance Rating</th>\n",
              "      <th>Number of Promotions</th>\n",
              "      <th>...</th>\n",
              "      <th>Number of Dependents</th>\n",
              "      <th>Job Level</th>\n",
              "      <th>Company Size</th>\n",
              "      <th>Company Tenure</th>\n",
              "      <th>Remote Work</th>\n",
              "      <th>Leadership Opportunities</th>\n",
              "      <th>Innovation Opportunities</th>\n",
              "      <th>Company Reputation</th>\n",
              "      <th>Employee Recognition</th>\n",
              "      <th>Attrition</th>\n",
              "    </tr>\n",
              "  </thead>\n",
              "  <tbody>\n",
              "    <tr>\n",
              "      <th>0</th>\n",
              "      <td>8410</td>\n",
              "      <td>31</td>\n",
              "      <td>Male</td>\n",
              "      <td>19</td>\n",
              "      <td>Education</td>\n",
              "      <td>5390</td>\n",
              "      <td>Excellent</td>\n",
              "      <td>Medium</td>\n",
              "      <td>Average</td>\n",
              "      <td>2</td>\n",
              "      <td>...</td>\n",
              "      <td>0</td>\n",
              "      <td>Mid</td>\n",
              "      <td>Medium</td>\n",
              "      <td>89</td>\n",
              "      <td>No</td>\n",
              "      <td>No</td>\n",
              "      <td>No</td>\n",
              "      <td>Excellent</td>\n",
              "      <td>Medium</td>\n",
              "      <td>Stayed</td>\n",
              "    </tr>\n",
              "    <tr>\n",
              "      <th>1</th>\n",
              "      <td>64756</td>\n",
              "      <td>59</td>\n",
              "      <td>Female</td>\n",
              "      <td>4</td>\n",
              "      <td>Media</td>\n",
              "      <td>5534</td>\n",
              "      <td>Poor</td>\n",
              "      <td>High</td>\n",
              "      <td>Low</td>\n",
              "      <td>3</td>\n",
              "      <td>...</td>\n",
              "      <td>3</td>\n",
              "      <td>Mid</td>\n",
              "      <td>Medium</td>\n",
              "      <td>21</td>\n",
              "      <td>No</td>\n",
              "      <td>No</td>\n",
              "      <td>No</td>\n",
              "      <td>Fair</td>\n",
              "      <td>Low</td>\n",
              "      <td>Stayed</td>\n",
              "    </tr>\n",
              "    <tr>\n",
              "      <th>2</th>\n",
              "      <td>30257</td>\n",
              "      <td>24</td>\n",
              "      <td>Female</td>\n",
              "      <td>10</td>\n",
              "      <td>Healthcare</td>\n",
              "      <td>8159</td>\n",
              "      <td>Good</td>\n",
              "      <td>High</td>\n",
              "      <td>Low</td>\n",
              "      <td>0</td>\n",
              "      <td>...</td>\n",
              "      <td>3</td>\n",
              "      <td>Mid</td>\n",
              "      <td>Medium</td>\n",
              "      <td>74</td>\n",
              "      <td>No</td>\n",
              "      <td>No</td>\n",
              "      <td>No</td>\n",
              "      <td>Poor</td>\n",
              "      <td>Low</td>\n",
              "      <td>Stayed</td>\n",
              "    </tr>\n",
              "    <tr>\n",
              "      <th>3</th>\n",
              "      <td>65791</td>\n",
              "      <td>36</td>\n",
              "      <td>Female</td>\n",
              "      <td>7</td>\n",
              "      <td>Education</td>\n",
              "      <td>3989</td>\n",
              "      <td>Good</td>\n",
              "      <td>High</td>\n",
              "      <td>High</td>\n",
              "      <td>1</td>\n",
              "      <td>...</td>\n",
              "      <td>2</td>\n",
              "      <td>Mid</td>\n",
              "      <td>Small</td>\n",
              "      <td>50</td>\n",
              "      <td>Yes</td>\n",
              "      <td>No</td>\n",
              "      <td>No</td>\n",
              "      <td>Good</td>\n",
              "      <td>Medium</td>\n",
              "      <td>Stayed</td>\n",
              "    </tr>\n",
              "    <tr>\n",
              "      <th>4</th>\n",
              "      <td>65026</td>\n",
              "      <td>56</td>\n",
              "      <td>Male</td>\n",
              "      <td>41</td>\n",
              "      <td>Education</td>\n",
              "      <td>4821</td>\n",
              "      <td>Fair</td>\n",
              "      <td>Very High</td>\n",
              "      <td>Average</td>\n",
              "      <td>0</td>\n",
              "      <td>...</td>\n",
              "      <td>0</td>\n",
              "      <td>Senior</td>\n",
              "      <td>Medium</td>\n",
              "      <td>68</td>\n",
              "      <td>No</td>\n",
              "      <td>No</td>\n",
              "      <td>No</td>\n",
              "      <td>Fair</td>\n",
              "      <td>Medium</td>\n",
              "      <td>Stayed</td>\n",
              "    </tr>\n",
              "    <tr>\n",
              "      <th>...</th>\n",
              "      <td>...</td>\n",
              "      <td>...</td>\n",
              "      <td>...</td>\n",
              "      <td>...</td>\n",
              "      <td>...</td>\n",
              "      <td>...</td>\n",
              "      <td>...</td>\n",
              "      <td>...</td>\n",
              "      <td>...</td>\n",
              "      <td>...</td>\n",
              "      <td>...</td>\n",
              "      <td>...</td>\n",
              "      <td>...</td>\n",
              "      <td>...</td>\n",
              "      <td>...</td>\n",
              "      <td>...</td>\n",
              "      <td>...</td>\n",
              "      <td>...</td>\n",
              "      <td>...</td>\n",
              "      <td>...</td>\n",
              "      <td>...</td>\n",
              "    </tr>\n",
              "    <tr>\n",
              "      <th>74493</th>\n",
              "      <td>16243</td>\n",
              "      <td>56</td>\n",
              "      <td>Female</td>\n",
              "      <td>42</td>\n",
              "      <td>Healthcare</td>\n",
              "      <td>7830</td>\n",
              "      <td>Poor</td>\n",
              "      <td>Medium</td>\n",
              "      <td>Average</td>\n",
              "      <td>0</td>\n",
              "      <td>...</td>\n",
              "      <td>0</td>\n",
              "      <td>Senior</td>\n",
              "      <td>Medium</td>\n",
              "      <td>60</td>\n",
              "      <td>No</td>\n",
              "      <td>No</td>\n",
              "      <td>No</td>\n",
              "      <td>Poor</td>\n",
              "      <td>Medium</td>\n",
              "      <td>Stayed</td>\n",
              "    </tr>\n",
              "    <tr>\n",
              "      <th>74494</th>\n",
              "      <td>47175</td>\n",
              "      <td>30</td>\n",
              "      <td>Female</td>\n",
              "      <td>15</td>\n",
              "      <td>Education</td>\n",
              "      <td>3856</td>\n",
              "      <td>Good</td>\n",
              "      <td>Medium</td>\n",
              "      <td>Average</td>\n",
              "      <td>2</td>\n",
              "      <td>...</td>\n",
              "      <td>0</td>\n",
              "      <td>Entry</td>\n",
              "      <td>Medium</td>\n",
              "      <td>20</td>\n",
              "      <td>No</td>\n",
              "      <td>No</td>\n",
              "      <td>No</td>\n",
              "      <td>Good</td>\n",
              "      <td>Medium</td>\n",
              "      <td>Left</td>\n",
              "    </tr>\n",
              "    <tr>\n",
              "      <th>74495</th>\n",
              "      <td>12409</td>\n",
              "      <td>52</td>\n",
              "      <td>Male</td>\n",
              "      <td>5</td>\n",
              "      <td>Education</td>\n",
              "      <td>5654</td>\n",
              "      <td>Good</td>\n",
              "      <td>Very High</td>\n",
              "      <td>Below Average</td>\n",
              "      <td>0</td>\n",
              "      <td>...</td>\n",
              "      <td>4</td>\n",
              "      <td>Mid</td>\n",
              "      <td>Small</td>\n",
              "      <td>7</td>\n",
              "      <td>No</td>\n",
              "      <td>No</td>\n",
              "      <td>No</td>\n",
              "      <td>Good</td>\n",
              "      <td>High</td>\n",
              "      <td>Left</td>\n",
              "    </tr>\n",
              "    <tr>\n",
              "      <th>74496</th>\n",
              "      <td>9554</td>\n",
              "      <td>18</td>\n",
              "      <td>Male</td>\n",
              "      <td>4</td>\n",
              "      <td>Education</td>\n",
              "      <td>5276</td>\n",
              "      <td>Fair</td>\n",
              "      <td>High</td>\n",
              "      <td>Average</td>\n",
              "      <td>0</td>\n",
              "      <td>...</td>\n",
              "      <td>3</td>\n",
              "      <td>Mid</td>\n",
              "      <td>Large</td>\n",
              "      <td>5</td>\n",
              "      <td>No</td>\n",
              "      <td>No</td>\n",
              "      <td>No</td>\n",
              "      <td>Poor</td>\n",
              "      <td>High</td>\n",
              "      <td>Stayed</td>\n",
              "    </tr>\n",
              "    <tr>\n",
              "      <th>74497</th>\n",
              "      <td>73042</td>\n",
              "      <td>59</td>\n",
              "      <td>Female</td>\n",
              "      <td>48</td>\n",
              "      <td>Education</td>\n",
              "      <td>3774</td>\n",
              "      <td>Good</td>\n",
              "      <td>High</td>\n",
              "      <td>Below Average</td>\n",
              "      <td>1</td>\n",
              "      <td>...</td>\n",
              "      <td>4</td>\n",
              "      <td>Mid</td>\n",
              "      <td>Large</td>\n",
              "      <td>118</td>\n",
              "      <td>No</td>\n",
              "      <td>No</td>\n",
              "      <td>No</td>\n",
              "      <td>Good</td>\n",
              "      <td>Very High</td>\n",
              "      <td>Left</td>\n",
              "    </tr>\n",
              "  </tbody>\n",
              "</table>\n",
              "<p>74498 rows × 24 columns</p>\n",
              "</div>\n",
              "    <div class=\"colab-df-buttons\">\n",
              "\n",
              "  <div class=\"colab-df-container\">\n",
              "    <button class=\"colab-df-convert\" onclick=\"convertToInteractive('df-0925092d-91db-4dd1-ac6a-a2d9ff44ba23')\"\n",
              "            title=\"Convert this dataframe to an interactive table.\"\n",
              "            style=\"display:none;\">\n",
              "\n",
              "  <svg xmlns=\"http://www.w3.org/2000/svg\" height=\"24px\" viewBox=\"0 -960 960 960\">\n",
              "    <path d=\"M120-120v-720h720v720H120Zm60-500h600v-160H180v160Zm220 220h160v-160H400v160Zm0 220h160v-160H400v160ZM180-400h160v-160H180v160Zm440 0h160v-160H620v160ZM180-180h160v-160H180v160Zm440 0h160v-160H620v160Z\"/>\n",
              "  </svg>\n",
              "    </button>\n",
              "\n",
              "  <style>\n",
              "    .colab-df-container {\n",
              "      display:flex;\n",
              "      gap: 12px;\n",
              "    }\n",
              "\n",
              "    .colab-df-convert {\n",
              "      background-color: #E8F0FE;\n",
              "      border: none;\n",
              "      border-radius: 50%;\n",
              "      cursor: pointer;\n",
              "      display: none;\n",
              "      fill: #1967D2;\n",
              "      height: 32px;\n",
              "      padding: 0 0 0 0;\n",
              "      width: 32px;\n",
              "    }\n",
              "\n",
              "    .colab-df-convert:hover {\n",
              "      background-color: #E2EBFA;\n",
              "      box-shadow: 0px 1px 2px rgba(60, 64, 67, 0.3), 0px 1px 3px 1px rgba(60, 64, 67, 0.15);\n",
              "      fill: #174EA6;\n",
              "    }\n",
              "\n",
              "    .colab-df-buttons div {\n",
              "      margin-bottom: 4px;\n",
              "    }\n",
              "\n",
              "    [theme=dark] .colab-df-convert {\n",
              "      background-color: #3B4455;\n",
              "      fill: #D2E3FC;\n",
              "    }\n",
              "\n",
              "    [theme=dark] .colab-df-convert:hover {\n",
              "      background-color: #434B5C;\n",
              "      box-shadow: 0px 1px 3px 1px rgba(0, 0, 0, 0.15);\n",
              "      filter: drop-shadow(0px 1px 2px rgba(0, 0, 0, 0.3));\n",
              "      fill: #FFFFFF;\n",
              "    }\n",
              "  </style>\n",
              "\n",
              "    <script>\n",
              "      const buttonEl =\n",
              "        document.querySelector('#df-0925092d-91db-4dd1-ac6a-a2d9ff44ba23 button.colab-df-convert');\n",
              "      buttonEl.style.display =\n",
              "        google.colab.kernel.accessAllowed ? 'block' : 'none';\n",
              "\n",
              "      async function convertToInteractive(key) {\n",
              "        const element = document.querySelector('#df-0925092d-91db-4dd1-ac6a-a2d9ff44ba23');\n",
              "        const dataTable =\n",
              "          await google.colab.kernel.invokeFunction('convertToInteractive',\n",
              "                                                    [key], {});\n",
              "        if (!dataTable) return;\n",
              "\n",
              "        const docLinkHtml = 'Like what you see? Visit the ' +\n",
              "          '<a target=\"_blank\" href=https://colab.research.google.com/notebooks/data_table.ipynb>data table notebook</a>'\n",
              "          + ' to learn more about interactive tables.';\n",
              "        element.innerHTML = '';\n",
              "        dataTable['output_type'] = 'display_data';\n",
              "        await google.colab.output.renderOutput(dataTable, element);\n",
              "        const docLink = document.createElement('div');\n",
              "        docLink.innerHTML = docLinkHtml;\n",
              "        element.appendChild(docLink);\n",
              "      }\n",
              "    </script>\n",
              "  </div>\n",
              "\n",
              "\n",
              "<div id=\"df-c5e17898-ede2-4802-8cf6-b9ee3dffd5a3\">\n",
              "  <button class=\"colab-df-quickchart\" onclick=\"quickchart('df-c5e17898-ede2-4802-8cf6-b9ee3dffd5a3')\"\n",
              "            title=\"Suggest charts\"\n",
              "            style=\"display:none;\">\n",
              "\n",
              "<svg xmlns=\"http://www.w3.org/2000/svg\" height=\"24px\"viewBox=\"0 0 24 24\"\n",
              "     width=\"24px\">\n",
              "    <g>\n",
              "        <path d=\"M19 3H5c-1.1 0-2 .9-2 2v14c0 1.1.9 2 2 2h14c1.1 0 2-.9 2-2V5c0-1.1-.9-2-2-2zM9 17H7v-7h2v7zm4 0h-2V7h2v10zm4 0h-2v-4h2v4z\"/>\n",
              "    </g>\n",
              "</svg>\n",
              "  </button>\n",
              "\n",
              "<style>\n",
              "  .colab-df-quickchart {\n",
              "      --bg-color: #E8F0FE;\n",
              "      --fill-color: #1967D2;\n",
              "      --hover-bg-color: #E2EBFA;\n",
              "      --hover-fill-color: #174EA6;\n",
              "      --disabled-fill-color: #AAA;\n",
              "      --disabled-bg-color: #DDD;\n",
              "  }\n",
              "\n",
              "  [theme=dark] .colab-df-quickchart {\n",
              "      --bg-color: #3B4455;\n",
              "      --fill-color: #D2E3FC;\n",
              "      --hover-bg-color: #434B5C;\n",
              "      --hover-fill-color: #FFFFFF;\n",
              "      --disabled-bg-color: #3B4455;\n",
              "      --disabled-fill-color: #666;\n",
              "  }\n",
              "\n",
              "  .colab-df-quickchart {\n",
              "    background-color: var(--bg-color);\n",
              "    border: none;\n",
              "    border-radius: 50%;\n",
              "    cursor: pointer;\n",
              "    display: none;\n",
              "    fill: var(--fill-color);\n",
              "    height: 32px;\n",
              "    padding: 0;\n",
              "    width: 32px;\n",
              "  }\n",
              "\n",
              "  .colab-df-quickchart:hover {\n",
              "    background-color: var(--hover-bg-color);\n",
              "    box-shadow: 0 1px 2px rgba(60, 64, 67, 0.3), 0 1px 3px 1px rgba(60, 64, 67, 0.15);\n",
              "    fill: var(--button-hover-fill-color);\n",
              "  }\n",
              "\n",
              "  .colab-df-quickchart-complete:disabled,\n",
              "  .colab-df-quickchart-complete:disabled:hover {\n",
              "    background-color: var(--disabled-bg-color);\n",
              "    fill: var(--disabled-fill-color);\n",
              "    box-shadow: none;\n",
              "  }\n",
              "\n",
              "  .colab-df-spinner {\n",
              "    border: 2px solid var(--fill-color);\n",
              "    border-color: transparent;\n",
              "    border-bottom-color: var(--fill-color);\n",
              "    animation:\n",
              "      spin 1s steps(1) infinite;\n",
              "  }\n",
              "\n",
              "  @keyframes spin {\n",
              "    0% {\n",
              "      border-color: transparent;\n",
              "      border-bottom-color: var(--fill-color);\n",
              "      border-left-color: var(--fill-color);\n",
              "    }\n",
              "    20% {\n",
              "      border-color: transparent;\n",
              "      border-left-color: var(--fill-color);\n",
              "      border-top-color: var(--fill-color);\n",
              "    }\n",
              "    30% {\n",
              "      border-color: transparent;\n",
              "      border-left-color: var(--fill-color);\n",
              "      border-top-color: var(--fill-color);\n",
              "      border-right-color: var(--fill-color);\n",
              "    }\n",
              "    40% {\n",
              "      border-color: transparent;\n",
              "      border-right-color: var(--fill-color);\n",
              "      border-top-color: var(--fill-color);\n",
              "    }\n",
              "    60% {\n",
              "      border-color: transparent;\n",
              "      border-right-color: var(--fill-color);\n",
              "    }\n",
              "    80% {\n",
              "      border-color: transparent;\n",
              "      border-right-color: var(--fill-color);\n",
              "      border-bottom-color: var(--fill-color);\n",
              "    }\n",
              "    90% {\n",
              "      border-color: transparent;\n",
              "      border-bottom-color: var(--fill-color);\n",
              "    }\n",
              "  }\n",
              "</style>\n",
              "\n",
              "  <script>\n",
              "    async function quickchart(key) {\n",
              "      const quickchartButtonEl =\n",
              "        document.querySelector('#' + key + ' button');\n",
              "      quickchartButtonEl.disabled = true;  // To prevent multiple clicks.\n",
              "      quickchartButtonEl.classList.add('colab-df-spinner');\n",
              "      try {\n",
              "        const charts = await google.colab.kernel.invokeFunction(\n",
              "            'suggestCharts', [key], {});\n",
              "      } catch (error) {\n",
              "        console.error('Error during call to suggestCharts:', error);\n",
              "      }\n",
              "      quickchartButtonEl.classList.remove('colab-df-spinner');\n",
              "      quickchartButtonEl.classList.add('colab-df-quickchart-complete');\n",
              "    }\n",
              "    (() => {\n",
              "      let quickchartButtonEl =\n",
              "        document.querySelector('#df-c5e17898-ede2-4802-8cf6-b9ee3dffd5a3 button');\n",
              "      quickchartButtonEl.style.display =\n",
              "        google.colab.kernel.accessAllowed ? 'block' : 'none';\n",
              "    })();\n",
              "  </script>\n",
              "</div>\n",
              "\n",
              "  <div id=\"id_c50b900c-01a1-4e22-8fb7-d48ae7fb1bbb\">\n",
              "    <style>\n",
              "      .colab-df-generate {\n",
              "        background-color: #E8F0FE;\n",
              "        border: none;\n",
              "        border-radius: 50%;\n",
              "        cursor: pointer;\n",
              "        display: none;\n",
              "        fill: #1967D2;\n",
              "        height: 32px;\n",
              "        padding: 0 0 0 0;\n",
              "        width: 32px;\n",
              "      }\n",
              "\n",
              "      .colab-df-generate:hover {\n",
              "        background-color: #E2EBFA;\n",
              "        box-shadow: 0px 1px 2px rgba(60, 64, 67, 0.3), 0px 1px 3px 1px rgba(60, 64, 67, 0.15);\n",
              "        fill: #174EA6;\n",
              "      }\n",
              "\n",
              "      [theme=dark] .colab-df-generate {\n",
              "        background-color: #3B4455;\n",
              "        fill: #D2E3FC;\n",
              "      }\n",
              "\n",
              "      [theme=dark] .colab-df-generate:hover {\n",
              "        background-color: #434B5C;\n",
              "        box-shadow: 0px 1px 3px 1px rgba(0, 0, 0, 0.15);\n",
              "        filter: drop-shadow(0px 1px 2px rgba(0, 0, 0, 0.3));\n",
              "        fill: #FFFFFF;\n",
              "      }\n",
              "    </style>\n",
              "    <button class=\"colab-df-generate\" onclick=\"generateWithVariable('data')\"\n",
              "            title=\"Generate code using this dataframe.\"\n",
              "            style=\"display:none;\">\n",
              "\n",
              "  <svg xmlns=\"http://www.w3.org/2000/svg\" height=\"24px\"viewBox=\"0 0 24 24\"\n",
              "       width=\"24px\">\n",
              "    <path d=\"M7,19H8.4L18.45,9,17,7.55,7,17.6ZM5,21V16.75L18.45,3.32a2,2,0,0,1,2.83,0l1.4,1.43a1.91,1.91,0,0,1,.58,1.4,1.91,1.91,0,0,1-.58,1.4L9.25,21ZM18.45,9,17,7.55Zm-12,3A5.31,5.31,0,0,0,4.9,8.1,5.31,5.31,0,0,0,1,6.5,5.31,5.31,0,0,0,4.9,4.9,5.31,5.31,0,0,0,6.5,1,5.31,5.31,0,0,0,8.1,4.9,5.31,5.31,0,0,0,12,6.5,5.46,5.46,0,0,0,6.5,12Z\"/>\n",
              "  </svg>\n",
              "    </button>\n",
              "    <script>\n",
              "      (() => {\n",
              "      const buttonEl =\n",
              "        document.querySelector('#id_c50b900c-01a1-4e22-8fb7-d48ae7fb1bbb button.colab-df-generate');\n",
              "      buttonEl.style.display =\n",
              "        google.colab.kernel.accessAllowed ? 'block' : 'none';\n",
              "\n",
              "      buttonEl.onclick = () => {\n",
              "        google.colab.notebook.generateWithVariable('data');\n",
              "      }\n",
              "      })();\n",
              "    </script>\n",
              "  </div>\n",
              "\n",
              "    </div>\n",
              "  </div>\n"
            ],
            "application/vnd.google.colaboratory.intrinsic+json": {
              "type": "dataframe",
              "variable_name": "data"
            }
          },
          "metadata": {},
          "execution_count": 5
        }
      ]
    },
    {
      "cell_type": "code",
      "source": [
        "# Con .describe vemos un resumen estadístico de las variables númericas\n",
        "data.describe().round().T"
      ],
      "metadata": {
        "colab": {
          "base_uri": "https://localhost:8080/",
          "height": 300
        },
        "id": "tyF34lpfKzpJ",
        "outputId": "39d949b1-3aeb-44d7-a35c-e031e7ba9aea"
      },
      "execution_count": 6,
      "outputs": [
        {
          "output_type": "execute_result",
          "data": {
            "text/plain": [
              "                        count     mean      std     min      25%      50%  \\\n",
              "Employee ID           74498.0  37250.0  21506.0     1.0  18625.0  37250.0   \n",
              "Age                   74498.0     39.0     12.0    18.0     28.0     39.0   \n",
              "Years at Company      74498.0     16.0     11.0     1.0      7.0     13.0   \n",
              "Monthly Income        74498.0   7299.0   2153.0  1226.0   5652.0   7348.0   \n",
              "Number of Promotions  74498.0      1.0      1.0     0.0      0.0      1.0   \n",
              "Distance from Home    74498.0     50.0     29.0     1.0     25.0     50.0   \n",
              "Number of Dependents  74498.0      2.0      2.0     0.0      0.0      1.0   \n",
              "Company Tenure        74498.0     56.0     25.0     2.0     36.0     56.0   \n",
              "\n",
              "                          75%      max  \n",
              "Employee ID           55874.0  74498.0  \n",
              "Age                      49.0     59.0  \n",
              "Years at Company         23.0     51.0  \n",
              "Monthly Income         8876.0  16149.0  \n",
              "Number of Promotions      2.0      4.0  \n",
              "Distance from Home       75.0     99.0  \n",
              "Number of Dependents      3.0      6.0  \n",
              "Company Tenure           76.0    128.0  "
            ],
            "text/html": [
              "\n",
              "  <div id=\"df-14c23755-ab9b-48a6-aaf4-0fa78be969c2\" class=\"colab-df-container\">\n",
              "    <div>\n",
              "<style scoped>\n",
              "    .dataframe tbody tr th:only-of-type {\n",
              "        vertical-align: middle;\n",
              "    }\n",
              "\n",
              "    .dataframe tbody tr th {\n",
              "        vertical-align: top;\n",
              "    }\n",
              "\n",
              "    .dataframe thead th {\n",
              "        text-align: right;\n",
              "    }\n",
              "</style>\n",
              "<table border=\"1\" class=\"dataframe\">\n",
              "  <thead>\n",
              "    <tr style=\"text-align: right;\">\n",
              "      <th></th>\n",
              "      <th>count</th>\n",
              "      <th>mean</th>\n",
              "      <th>std</th>\n",
              "      <th>min</th>\n",
              "      <th>25%</th>\n",
              "      <th>50%</th>\n",
              "      <th>75%</th>\n",
              "      <th>max</th>\n",
              "    </tr>\n",
              "  </thead>\n",
              "  <tbody>\n",
              "    <tr>\n",
              "      <th>Employee ID</th>\n",
              "      <td>74498.0</td>\n",
              "      <td>37250.0</td>\n",
              "      <td>21506.0</td>\n",
              "      <td>1.0</td>\n",
              "      <td>18625.0</td>\n",
              "      <td>37250.0</td>\n",
              "      <td>55874.0</td>\n",
              "      <td>74498.0</td>\n",
              "    </tr>\n",
              "    <tr>\n",
              "      <th>Age</th>\n",
              "      <td>74498.0</td>\n",
              "      <td>39.0</td>\n",
              "      <td>12.0</td>\n",
              "      <td>18.0</td>\n",
              "      <td>28.0</td>\n",
              "      <td>39.0</td>\n",
              "      <td>49.0</td>\n",
              "      <td>59.0</td>\n",
              "    </tr>\n",
              "    <tr>\n",
              "      <th>Years at Company</th>\n",
              "      <td>74498.0</td>\n",
              "      <td>16.0</td>\n",
              "      <td>11.0</td>\n",
              "      <td>1.0</td>\n",
              "      <td>7.0</td>\n",
              "      <td>13.0</td>\n",
              "      <td>23.0</td>\n",
              "      <td>51.0</td>\n",
              "    </tr>\n",
              "    <tr>\n",
              "      <th>Monthly Income</th>\n",
              "      <td>74498.0</td>\n",
              "      <td>7299.0</td>\n",
              "      <td>2153.0</td>\n",
              "      <td>1226.0</td>\n",
              "      <td>5652.0</td>\n",
              "      <td>7348.0</td>\n",
              "      <td>8876.0</td>\n",
              "      <td>16149.0</td>\n",
              "    </tr>\n",
              "    <tr>\n",
              "      <th>Number of Promotions</th>\n",
              "      <td>74498.0</td>\n",
              "      <td>1.0</td>\n",
              "      <td>1.0</td>\n",
              "      <td>0.0</td>\n",
              "      <td>0.0</td>\n",
              "      <td>1.0</td>\n",
              "      <td>2.0</td>\n",
              "      <td>4.0</td>\n",
              "    </tr>\n",
              "    <tr>\n",
              "      <th>Distance from Home</th>\n",
              "      <td>74498.0</td>\n",
              "      <td>50.0</td>\n",
              "      <td>29.0</td>\n",
              "      <td>1.0</td>\n",
              "      <td>25.0</td>\n",
              "      <td>50.0</td>\n",
              "      <td>75.0</td>\n",
              "      <td>99.0</td>\n",
              "    </tr>\n",
              "    <tr>\n",
              "      <th>Number of Dependents</th>\n",
              "      <td>74498.0</td>\n",
              "      <td>2.0</td>\n",
              "      <td>2.0</td>\n",
              "      <td>0.0</td>\n",
              "      <td>0.0</td>\n",
              "      <td>1.0</td>\n",
              "      <td>3.0</td>\n",
              "      <td>6.0</td>\n",
              "    </tr>\n",
              "    <tr>\n",
              "      <th>Company Tenure</th>\n",
              "      <td>74498.0</td>\n",
              "      <td>56.0</td>\n",
              "      <td>25.0</td>\n",
              "      <td>2.0</td>\n",
              "      <td>36.0</td>\n",
              "      <td>56.0</td>\n",
              "      <td>76.0</td>\n",
              "      <td>128.0</td>\n",
              "    </tr>\n",
              "  </tbody>\n",
              "</table>\n",
              "</div>\n",
              "    <div class=\"colab-df-buttons\">\n",
              "\n",
              "  <div class=\"colab-df-container\">\n",
              "    <button class=\"colab-df-convert\" onclick=\"convertToInteractive('df-14c23755-ab9b-48a6-aaf4-0fa78be969c2')\"\n",
              "            title=\"Convert this dataframe to an interactive table.\"\n",
              "            style=\"display:none;\">\n",
              "\n",
              "  <svg xmlns=\"http://www.w3.org/2000/svg\" height=\"24px\" viewBox=\"0 -960 960 960\">\n",
              "    <path d=\"M120-120v-720h720v720H120Zm60-500h600v-160H180v160Zm220 220h160v-160H400v160Zm0 220h160v-160H400v160ZM180-400h160v-160H180v160Zm440 0h160v-160H620v160ZM180-180h160v-160H180v160Zm440 0h160v-160H620v160Z\"/>\n",
              "  </svg>\n",
              "    </button>\n",
              "\n",
              "  <style>\n",
              "    .colab-df-container {\n",
              "      display:flex;\n",
              "      gap: 12px;\n",
              "    }\n",
              "\n",
              "    .colab-df-convert {\n",
              "      background-color: #E8F0FE;\n",
              "      border: none;\n",
              "      border-radius: 50%;\n",
              "      cursor: pointer;\n",
              "      display: none;\n",
              "      fill: #1967D2;\n",
              "      height: 32px;\n",
              "      padding: 0 0 0 0;\n",
              "      width: 32px;\n",
              "    }\n",
              "\n",
              "    .colab-df-convert:hover {\n",
              "      background-color: #E2EBFA;\n",
              "      box-shadow: 0px 1px 2px rgba(60, 64, 67, 0.3), 0px 1px 3px 1px rgba(60, 64, 67, 0.15);\n",
              "      fill: #174EA6;\n",
              "    }\n",
              "\n",
              "    .colab-df-buttons div {\n",
              "      margin-bottom: 4px;\n",
              "    }\n",
              "\n",
              "    [theme=dark] .colab-df-convert {\n",
              "      background-color: #3B4455;\n",
              "      fill: #D2E3FC;\n",
              "    }\n",
              "\n",
              "    [theme=dark] .colab-df-convert:hover {\n",
              "      background-color: #434B5C;\n",
              "      box-shadow: 0px 1px 3px 1px rgba(0, 0, 0, 0.15);\n",
              "      filter: drop-shadow(0px 1px 2px rgba(0, 0, 0, 0.3));\n",
              "      fill: #FFFFFF;\n",
              "    }\n",
              "  </style>\n",
              "\n",
              "    <script>\n",
              "      const buttonEl =\n",
              "        document.querySelector('#df-14c23755-ab9b-48a6-aaf4-0fa78be969c2 button.colab-df-convert');\n",
              "      buttonEl.style.display =\n",
              "        google.colab.kernel.accessAllowed ? 'block' : 'none';\n",
              "\n",
              "      async function convertToInteractive(key) {\n",
              "        const element = document.querySelector('#df-14c23755-ab9b-48a6-aaf4-0fa78be969c2');\n",
              "        const dataTable =\n",
              "          await google.colab.kernel.invokeFunction('convertToInteractive',\n",
              "                                                    [key], {});\n",
              "        if (!dataTable) return;\n",
              "\n",
              "        const docLinkHtml = 'Like what you see? Visit the ' +\n",
              "          '<a target=\"_blank\" href=https://colab.research.google.com/notebooks/data_table.ipynb>data table notebook</a>'\n",
              "          + ' to learn more about interactive tables.';\n",
              "        element.innerHTML = '';\n",
              "        dataTable['output_type'] = 'display_data';\n",
              "        await google.colab.output.renderOutput(dataTable, element);\n",
              "        const docLink = document.createElement('div');\n",
              "        docLink.innerHTML = docLinkHtml;\n",
              "        element.appendChild(docLink);\n",
              "      }\n",
              "    </script>\n",
              "  </div>\n",
              "\n",
              "\n",
              "<div id=\"df-9f0071fe-26d6-415c-834a-7496963145f5\">\n",
              "  <button class=\"colab-df-quickchart\" onclick=\"quickchart('df-9f0071fe-26d6-415c-834a-7496963145f5')\"\n",
              "            title=\"Suggest charts\"\n",
              "            style=\"display:none;\">\n",
              "\n",
              "<svg xmlns=\"http://www.w3.org/2000/svg\" height=\"24px\"viewBox=\"0 0 24 24\"\n",
              "     width=\"24px\">\n",
              "    <g>\n",
              "        <path d=\"M19 3H5c-1.1 0-2 .9-2 2v14c0 1.1.9 2 2 2h14c1.1 0 2-.9 2-2V5c0-1.1-.9-2-2-2zM9 17H7v-7h2v7zm4 0h-2V7h2v10zm4 0h-2v-4h2v4z\"/>\n",
              "    </g>\n",
              "</svg>\n",
              "  </button>\n",
              "\n",
              "<style>\n",
              "  .colab-df-quickchart {\n",
              "      --bg-color: #E8F0FE;\n",
              "      --fill-color: #1967D2;\n",
              "      --hover-bg-color: #E2EBFA;\n",
              "      --hover-fill-color: #174EA6;\n",
              "      --disabled-fill-color: #AAA;\n",
              "      --disabled-bg-color: #DDD;\n",
              "  }\n",
              "\n",
              "  [theme=dark] .colab-df-quickchart {\n",
              "      --bg-color: #3B4455;\n",
              "      --fill-color: #D2E3FC;\n",
              "      --hover-bg-color: #434B5C;\n",
              "      --hover-fill-color: #FFFFFF;\n",
              "      --disabled-bg-color: #3B4455;\n",
              "      --disabled-fill-color: #666;\n",
              "  }\n",
              "\n",
              "  .colab-df-quickchart {\n",
              "    background-color: var(--bg-color);\n",
              "    border: none;\n",
              "    border-radius: 50%;\n",
              "    cursor: pointer;\n",
              "    display: none;\n",
              "    fill: var(--fill-color);\n",
              "    height: 32px;\n",
              "    padding: 0;\n",
              "    width: 32px;\n",
              "  }\n",
              "\n",
              "  .colab-df-quickchart:hover {\n",
              "    background-color: var(--hover-bg-color);\n",
              "    box-shadow: 0 1px 2px rgba(60, 64, 67, 0.3), 0 1px 3px 1px rgba(60, 64, 67, 0.15);\n",
              "    fill: var(--button-hover-fill-color);\n",
              "  }\n",
              "\n",
              "  .colab-df-quickchart-complete:disabled,\n",
              "  .colab-df-quickchart-complete:disabled:hover {\n",
              "    background-color: var(--disabled-bg-color);\n",
              "    fill: var(--disabled-fill-color);\n",
              "    box-shadow: none;\n",
              "  }\n",
              "\n",
              "  .colab-df-spinner {\n",
              "    border: 2px solid var(--fill-color);\n",
              "    border-color: transparent;\n",
              "    border-bottom-color: var(--fill-color);\n",
              "    animation:\n",
              "      spin 1s steps(1) infinite;\n",
              "  }\n",
              "\n",
              "  @keyframes spin {\n",
              "    0% {\n",
              "      border-color: transparent;\n",
              "      border-bottom-color: var(--fill-color);\n",
              "      border-left-color: var(--fill-color);\n",
              "    }\n",
              "    20% {\n",
              "      border-color: transparent;\n",
              "      border-left-color: var(--fill-color);\n",
              "      border-top-color: var(--fill-color);\n",
              "    }\n",
              "    30% {\n",
              "      border-color: transparent;\n",
              "      border-left-color: var(--fill-color);\n",
              "      border-top-color: var(--fill-color);\n",
              "      border-right-color: var(--fill-color);\n",
              "    }\n",
              "    40% {\n",
              "      border-color: transparent;\n",
              "      border-right-color: var(--fill-color);\n",
              "      border-top-color: var(--fill-color);\n",
              "    }\n",
              "    60% {\n",
              "      border-color: transparent;\n",
              "      border-right-color: var(--fill-color);\n",
              "    }\n",
              "    80% {\n",
              "      border-color: transparent;\n",
              "      border-right-color: var(--fill-color);\n",
              "      border-bottom-color: var(--fill-color);\n",
              "    }\n",
              "    90% {\n",
              "      border-color: transparent;\n",
              "      border-bottom-color: var(--fill-color);\n",
              "    }\n",
              "  }\n",
              "</style>\n",
              "\n",
              "  <script>\n",
              "    async function quickchart(key) {\n",
              "      const quickchartButtonEl =\n",
              "        document.querySelector('#' + key + ' button');\n",
              "      quickchartButtonEl.disabled = true;  // To prevent multiple clicks.\n",
              "      quickchartButtonEl.classList.add('colab-df-spinner');\n",
              "      try {\n",
              "        const charts = await google.colab.kernel.invokeFunction(\n",
              "            'suggestCharts', [key], {});\n",
              "      } catch (error) {\n",
              "        console.error('Error during call to suggestCharts:', error);\n",
              "      }\n",
              "      quickchartButtonEl.classList.remove('colab-df-spinner');\n",
              "      quickchartButtonEl.classList.add('colab-df-quickchart-complete');\n",
              "    }\n",
              "    (() => {\n",
              "      let quickchartButtonEl =\n",
              "        document.querySelector('#df-9f0071fe-26d6-415c-834a-7496963145f5 button');\n",
              "      quickchartButtonEl.style.display =\n",
              "        google.colab.kernel.accessAllowed ? 'block' : 'none';\n",
              "    })();\n",
              "  </script>\n",
              "</div>\n",
              "\n",
              "    </div>\n",
              "  </div>\n"
            ],
            "application/vnd.google.colaboratory.intrinsic+json": {
              "type": "dataframe",
              "summary": "{\n  \"name\": \"data\",\n  \"rows\": 8,\n  \"fields\": [\n    {\n      \"column\": \"count\",\n      \"properties\": {\n        \"dtype\": \"number\",\n        \"std\": 0.0,\n        \"min\": 74498.0,\n        \"max\": 74498.0,\n        \"num_unique_values\": 1,\n        \"samples\": [\n          74498.0\n        ],\n        \"semantic_type\": \"\",\n        \"description\": \"\"\n      }\n    },\n    {\n      \"column\": \"mean\",\n      \"properties\": {\n        \"dtype\": \"number\",\n        \"std\": 13043.546695999301,\n        \"min\": 1.0,\n        \"max\": 37250.0,\n        \"num_unique_values\": 8,\n        \"samples\": [\n          39.0\n        ],\n        \"semantic_type\": \"\",\n        \"description\": \"\"\n      }\n    },\n    {\n      \"column\": \"std\",\n      \"properties\": {\n        \"dtype\": \"number\",\n        \"std\": 7528.0681061421255,\n        \"min\": 1.0,\n        \"max\": 21506.0,\n        \"num_unique_values\": 8,\n        \"samples\": [\n          12.0\n        ],\n        \"semantic_type\": \"\",\n        \"description\": \"\"\n      }\n    },\n    {\n      \"column\": \"min\",\n      \"properties\": {\n        \"dtype\": \"number\",\n        \"std\": 432.33698414216525,\n        \"min\": 0.0,\n        \"max\": 1226.0,\n        \"num_unique_values\": 5,\n        \"samples\": [\n          18.0\n        ],\n        \"semantic_type\": \"\",\n        \"description\": \"\"\n      }\n    },\n    {\n      \"column\": \"25%\",\n      \"properties\": {\n        \"dtype\": \"number\",\n        \"std\": 6596.352800438826,\n        \"min\": 0.0,\n        \"max\": 18625.0,\n        \"num_unique_values\": 7,\n        \"samples\": [\n          18625.0\n        ],\n        \"semantic_type\": \"\",\n        \"description\": \"\"\n      }\n    },\n    {\n      \"column\": \"50%\",\n      \"properties\": {\n        \"dtype\": \"number\",\n        \"std\": 13044.720396171231,\n        \"min\": 1.0,\n        \"max\": 37250.0,\n        \"num_unique_values\": 7,\n        \"samples\": [\n          37250.0\n        ],\n        \"semantic_type\": \"\",\n        \"description\": \"\"\n      }\n    },\n    {\n      \"column\": \"75%\",\n      \"properties\": {\n        \"dtype\": \"number\",\n        \"std\": 19540.92421962541,\n        \"min\": 2.0,\n        \"max\": 55874.0,\n        \"num_unique_values\": 8,\n        \"samples\": [\n          49.0\n        ],\n        \"semantic_type\": \"\",\n        \"description\": \"\"\n      }\n    },\n    {\n      \"column\": \"max\",\n      \"properties\": {\n        \"dtype\": \"number\",\n        \"std\": 26120.014273404544,\n        \"min\": 4.0,\n        \"max\": 74498.0,\n        \"num_unique_values\": 8,\n        \"samples\": [\n          59.0\n        ],\n        \"semantic_type\": \"\",\n        \"description\": \"\"\n      }\n    }\n  ]\n}"
            }
          },
          "metadata": {},
          "execution_count": 6
        }
      ]
    },
    {
      "cell_type": "code",
      "source": [
        "# Acá podemos ver una información completa de las columnas del data frame\n",
        "data.info()"
      ],
      "metadata": {
        "colab": {
          "base_uri": "https://localhost:8080/"
        },
        "id": "fB7kF5N9LM5l",
        "outputId": "250abee2-fa74-4c62-d656-1072f4d019fd"
      },
      "execution_count": 7,
      "outputs": [
        {
          "output_type": "stream",
          "name": "stdout",
          "text": [
            "<class 'pandas.core.frame.DataFrame'>\n",
            "RangeIndex: 74498 entries, 0 to 74497\n",
            "Data columns (total 24 columns):\n",
            " #   Column                    Non-Null Count  Dtype \n",
            "---  ------                    --------------  ----- \n",
            " 0   Employee ID               74498 non-null  int64 \n",
            " 1   Age                       74498 non-null  int64 \n",
            " 2   Gender                    74498 non-null  object\n",
            " 3   Years at Company          74498 non-null  int64 \n",
            " 4   Job Role                  74498 non-null  object\n",
            " 5   Monthly Income            74498 non-null  int64 \n",
            " 6   Work-Life Balance         74498 non-null  object\n",
            " 7   Job Satisfaction          74498 non-null  object\n",
            " 8   Performance Rating        74498 non-null  object\n",
            " 9   Number of Promotions      74498 non-null  int64 \n",
            " 10  Overtime                  74498 non-null  object\n",
            " 11  Distance from Home        74498 non-null  int64 \n",
            " 12  Education Level           74498 non-null  object\n",
            " 13  Marital Status            74498 non-null  object\n",
            " 14  Number of Dependents      74498 non-null  int64 \n",
            " 15  Job Level                 74498 non-null  object\n",
            " 16  Company Size              74498 non-null  object\n",
            " 17  Company Tenure            74498 non-null  int64 \n",
            " 18  Remote Work               74498 non-null  object\n",
            " 19  Leadership Opportunities  74498 non-null  object\n",
            " 20  Innovation Opportunities  74498 non-null  object\n",
            " 21  Company Reputation        74498 non-null  object\n",
            " 22  Employee Recognition      74498 non-null  object\n",
            " 23  Attrition                 74498 non-null  object\n",
            "dtypes: int64(8), object(16)\n",
            "memory usage: 13.6+ MB\n"
          ]
        }
      ]
    },
    {
      "cell_type": "code",
      "source": [
        "# Vemos un conteo total de datos nulos\n",
        "data.isnull().sum()"
      ],
      "metadata": {
        "colab": {
          "base_uri": "https://localhost:8080/",
          "height": 836
        },
        "id": "AoqvsLh4LSwa",
        "outputId": "f700cfbc-48f5-48bb-dd1a-2ad13fc3e14e"
      },
      "execution_count": 8,
      "outputs": [
        {
          "output_type": "execute_result",
          "data": {
            "text/plain": [
              "Employee ID                 0\n",
              "Age                         0\n",
              "Gender                      0\n",
              "Years at Company            0\n",
              "Job Role                    0\n",
              "Monthly Income              0\n",
              "Work-Life Balance           0\n",
              "Job Satisfaction            0\n",
              "Performance Rating          0\n",
              "Number of Promotions        0\n",
              "Overtime                    0\n",
              "Distance from Home          0\n",
              "Education Level             0\n",
              "Marital Status              0\n",
              "Number of Dependents        0\n",
              "Job Level                   0\n",
              "Company Size                0\n",
              "Company Tenure              0\n",
              "Remote Work                 0\n",
              "Leadership Opportunities    0\n",
              "Innovation Opportunities    0\n",
              "Company Reputation          0\n",
              "Employee Recognition        0\n",
              "Attrition                   0\n",
              "dtype: int64"
            ],
            "text/html": [
              "<div>\n",
              "<style scoped>\n",
              "    .dataframe tbody tr th:only-of-type {\n",
              "        vertical-align: middle;\n",
              "    }\n",
              "\n",
              "    .dataframe tbody tr th {\n",
              "        vertical-align: top;\n",
              "    }\n",
              "\n",
              "    .dataframe thead th {\n",
              "        text-align: right;\n",
              "    }\n",
              "</style>\n",
              "<table border=\"1\" class=\"dataframe\">\n",
              "  <thead>\n",
              "    <tr style=\"text-align: right;\">\n",
              "      <th></th>\n",
              "      <th>0</th>\n",
              "    </tr>\n",
              "  </thead>\n",
              "  <tbody>\n",
              "    <tr>\n",
              "      <th>Employee ID</th>\n",
              "      <td>0</td>\n",
              "    </tr>\n",
              "    <tr>\n",
              "      <th>Age</th>\n",
              "      <td>0</td>\n",
              "    </tr>\n",
              "    <tr>\n",
              "      <th>Gender</th>\n",
              "      <td>0</td>\n",
              "    </tr>\n",
              "    <tr>\n",
              "      <th>Years at Company</th>\n",
              "      <td>0</td>\n",
              "    </tr>\n",
              "    <tr>\n",
              "      <th>Job Role</th>\n",
              "      <td>0</td>\n",
              "    </tr>\n",
              "    <tr>\n",
              "      <th>Monthly Income</th>\n",
              "      <td>0</td>\n",
              "    </tr>\n",
              "    <tr>\n",
              "      <th>Work-Life Balance</th>\n",
              "      <td>0</td>\n",
              "    </tr>\n",
              "    <tr>\n",
              "      <th>Job Satisfaction</th>\n",
              "      <td>0</td>\n",
              "    </tr>\n",
              "    <tr>\n",
              "      <th>Performance Rating</th>\n",
              "      <td>0</td>\n",
              "    </tr>\n",
              "    <tr>\n",
              "      <th>Number of Promotions</th>\n",
              "      <td>0</td>\n",
              "    </tr>\n",
              "    <tr>\n",
              "      <th>Overtime</th>\n",
              "      <td>0</td>\n",
              "    </tr>\n",
              "    <tr>\n",
              "      <th>Distance from Home</th>\n",
              "      <td>0</td>\n",
              "    </tr>\n",
              "    <tr>\n",
              "      <th>Education Level</th>\n",
              "      <td>0</td>\n",
              "    </tr>\n",
              "    <tr>\n",
              "      <th>Marital Status</th>\n",
              "      <td>0</td>\n",
              "    </tr>\n",
              "    <tr>\n",
              "      <th>Number of Dependents</th>\n",
              "      <td>0</td>\n",
              "    </tr>\n",
              "    <tr>\n",
              "      <th>Job Level</th>\n",
              "      <td>0</td>\n",
              "    </tr>\n",
              "    <tr>\n",
              "      <th>Company Size</th>\n",
              "      <td>0</td>\n",
              "    </tr>\n",
              "    <tr>\n",
              "      <th>Company Tenure</th>\n",
              "      <td>0</td>\n",
              "    </tr>\n",
              "    <tr>\n",
              "      <th>Remote Work</th>\n",
              "      <td>0</td>\n",
              "    </tr>\n",
              "    <tr>\n",
              "      <th>Leadership Opportunities</th>\n",
              "      <td>0</td>\n",
              "    </tr>\n",
              "    <tr>\n",
              "      <th>Innovation Opportunities</th>\n",
              "      <td>0</td>\n",
              "    </tr>\n",
              "    <tr>\n",
              "      <th>Company Reputation</th>\n",
              "      <td>0</td>\n",
              "    </tr>\n",
              "    <tr>\n",
              "      <th>Employee Recognition</th>\n",
              "      <td>0</td>\n",
              "    </tr>\n",
              "    <tr>\n",
              "      <th>Attrition</th>\n",
              "      <td>0</td>\n",
              "    </tr>\n",
              "  </tbody>\n",
              "</table>\n",
              "</div><br><label><b>dtype:</b> int64</label>"
            ]
          },
          "metadata": {},
          "execution_count": 8
        }
      ]
    },
    {
      "cell_type": "code",
      "source": [
        "# y si hay datos duplicados o no\n",
        "data.duplicated().sum()"
      ],
      "metadata": {
        "colab": {
          "base_uri": "https://localhost:8080/"
        },
        "id": "Tqy3oYxbLXhp",
        "outputId": "96211cc2-5e3a-4f83-afc8-c294edf79065"
      },
      "execution_count": 9,
      "outputs": [
        {
          "output_type": "execute_result",
          "data": {
            "text/plain": [
              "0"
            ]
          },
          "metadata": {},
          "execution_count": 9
        }
      ]
    },
    {
      "cell_type": "code",
      "source": [
        "# Elimino la columna Employee ID y Company Tenure ya que no me resulta relevante para el proyecto\n",
        "data.drop(columns=['Employee ID'], inplace=True)\n",
        "data.drop(columns=['Company Tenure'], inplace=True)"
      ],
      "metadata": {
        "id": "qa3H71YyLdEI"
      },
      "execution_count": 10,
      "outputs": []
    },
    {
      "cell_type": "markdown",
      "source": [
        "## Análisis exploratorio de Datos"
      ],
      "metadata": {
        "id": "HqCvSzkbQZHW"
      }
    },
    {
      "cell_type": "markdown",
      "source": [
        "El análisis exploratorio de datos (AED) es crucial en un proyecto de renuncias en una empresa, ya que permite identificar patrones y tendencias, detectar anomalías y entender las causas subyacentes de las renuncias. Al proporcionar información clara y visual, el AED facilita la toma de decisiones informadas y la priorización de recursos para mejorar el clima laboral y las políticas de retención. Esto, a su vez, contribuye a crear un entorno más atractivo para los empleados, reduciendo así los costos asociados con la rotación de personal."
      ],
      "metadata": {
        "id": "3DdfYqC_Qdoi"
      }
    },
    {
      "cell_type": "code",
      "source": [
        "plt.figure(figsize=(10, 6))\n",
        "plt.hist(data=data, x='Age',bins=30, color='skyblue', edgecolor='black', alpha=0.7)\n",
        "plt.title('Distribución de la Edad de los Empleados por Renuncia')\n",
        "plt.xlabel('Edad')\n",
        "plt.ylabel('Empleados')\n",
        "plt.show()"
      ],
      "metadata": {
        "colab": {
          "base_uri": "https://localhost:8080/",
          "height": 565
        },
        "id": "1KdiMofkUYLE",
        "outputId": "eeeef32c-811f-40b7-ddaa-97584e142377"
      },
      "execution_count": 11,
      "outputs": [
        {
          "output_type": "display_data",
          "data": {
            "text/plain": [
              "<Figure size 1000x600 with 1 Axes>"
            ],
            "image/png": "[encoded data removed]"
          },
          "metadata": {}
        }
      ]
    },
    {
      "cell_type": "code",
      "source": [
        "plt.figure(figsize=(10, 6))\n",
        "sns.countplot(data=data, x='Gender', hue= 'Attrition', palette='pastel')\n",
        "plt.title('Renuncias por Género')\n",
        "plt.xlabel('Género')\n",
        "plt.ylabel('Cantidad de Empleados')\n",
        "plt.legend(title='Renuncias', loc='upper right', labels=['No', 'Sí'])\n",
        "plt.show()"
      ],
      "metadata": {
        "colab": {
          "base_uri": "https://localhost:8080/",
          "height": 565
        },
        "id": "tqCrjUqDUaik",
        "outputId": "cfb97e83-37a3-43cb-f743-48bfb4df6e39"
      },
      "execution_count": 12,
      "outputs": [
        {
          "output_type": "display_data",
          "data": {
            "text/plain": [
              "<Figure size 1000x600 with 1 Axes>"
            ],
            "image/png": "[encoded data removed]"
          },
          "metadata": {}
        }
      ]
    },
    {
      "cell_type": "markdown",
      "source": [
        "Gracias a este gráfico podemos observar que entre los empleados masculinos, hay un número significativamente mayor de quienes permanecen en la empresa en comparación con los que renuncian, lo que sugiere una mayor satisfacción laboral. En contraste, las empleadas femeninas son menos numerosas y presentan una proporción de renuncias más alta, indicando posibles desafíos como falta de oportunidades de crecimiento o insatisfacción con el ambiente laboral. Esto resalta la necesidad de implementar estrategias específicas para mejorar la retención del talento femenino."
      ],
      "metadata": {
        "id": "8MZDMazIUgtq"
      }
    },
    {
      "cell_type": "code",
      "source": [
        "plt.figure(figsize=(10, 6))\n",
        "sns.countplot(data=data, x='Marital Status', hue= 'Attrition', palette='pastel')\n",
        "plt.title('Renuncias por Estado Civil')\n",
        "plt.xlabel('Estado Civil')\n",
        "plt.ylabel('Cantidad de Empleados')\n",
        "plt.legend(title='Renuncias', loc='upper right', labels=['No', 'Sí'])\n",
        "plt.show()"
      ],
      "metadata": {
        "colab": {
          "base_uri": "https://localhost:8080/",
          "height": 564
        },
        "id": "EFa1Tdo_UgZt",
        "outputId": "472ca355-2c8f-48c7-c2e8-2c3352c67336"
      },
      "execution_count": 13,
      "outputs": [
        {
          "output_type": "display_data",
          "data": {
            "text/plain": [
              "<Figure size 1000x600 with 1 Axes>"
            ],
            "image/png": "[encoded data removed]"
          },
          "metadata": {}
        }
      ]
    },
    {
      "cell_type": "markdown",
      "source": [
        "El gráfico de Renuncias por Estado Civil revela que los empleados casados tienen una alta proporción de permanencia en la empresa, lo que sugiere una mayor estabilidad y satisfacción en sus roles. En contraste, los empleados solteros muestran una mayor inclinación a renunciar, lo que podría indicar una búsqueda de nuevas oportunidades o insatisfacción laboral. Curiosamente, aunque los empleados divorciados representan una minoría en la organización, también tienden a preferir quedarse, lo que sugiere que su experiencia laboral podría ser positiva y compensar sus desafíos personales."
      ],
      "metadata": {
        "id": "-lD0ehfJUoG8"
      }
    },
    {
      "cell_type": "markdown",
      "source": [
        "Como consecuencia de los datos anteriores, surgen otras interrogantes que merecen ser exploradas.\n",
        "Por ejemplo, ¿Qué factores contribuyen a la insatisfacción laboral de las empleadas femeninas? ¿Y la de los empleados solteros?"
      ],
      "metadata": {
        "id": "TfIMF7HiUqK-"
      }
    },
    {
      "cell_type": "code",
      "source": [
        "plt.figure(figsize=(12, 6))\n",
        "sns.countplot(data=data, x='Job Satisfaction', hue='Gender', palette='pastel',\n",
        "               order=['Low', 'Medium', 'High','Very High'])\n",
        "plt.title('Comparación de Satisfacción Laboral por Género')\n",
        "plt.xlabel('Satisfacción Laboral')\n",
        "plt.ylabel('Número de Empleados')\n",
        "plt.legend(title='Género', loc='upper right', labels=['Masculino', 'Femenino'])\n",
        "plt.show()"
      ],
      "metadata": {
        "colab": {
          "base_uri": "https://localhost:8080/",
          "height": 565
        },
        "id": "-Z88eWp_Uspk",
        "outputId": "8657c3d6-3b2c-4411-d8c4-6490d87281bc"
      },
      "execution_count": 14,
      "outputs": [
        {
          "output_type": "display_data",
          "data": {
            "text/plain": [
              "<Figure size 1200x600 with 1 Axes>"
            ],
            "image/png": "[encoded data removed]"
          },
          "metadata": {}
        }
      ]
    },
    {
      "cell_type": "code",
      "source": [
        "plt.figure(figsize=(12, 6))\n",
        "sns.countplot(data=data, x='Employee Recognition', hue='Gender', palette='pastel',\n",
        "               order=['Low', 'Medium', 'High','Very High'])\n",
        "plt.title('Comparación de Reconocimiento del empleado por Género')\n",
        "plt.xlabel('Reconocimiento del empleado')\n",
        "plt.ylabel('Número de Empleados')\n",
        "plt.legend(title='Género', loc='upper right', labels=['Masculino', 'Femenino'])\n",
        "plt.show()"
      ],
      "metadata": {
        "colab": {
          "base_uri": "https://localhost:8080/",
          "height": 565
        },
        "id": "Uxxp_xmUU75y",
        "outputId": "719c9ffd-ee4d-46c5-9ae8-8abdea4c5ad5"
      },
      "execution_count": 15,
      "outputs": [
        {
          "output_type": "display_data",
          "data": {
            "text/plain": [
              "<Figure size 1200x600 with 1 Axes>"
            ],
            "image/png": "[encoded data removed]"
          },
          "metadata": {}
        }
      ]
    },
    {
      "cell_type": "markdown",
      "source": [
        "La comparación entre la satisfacción laboral y el reconocimiento del empleado por género revela que no existen diferencias significativas entre hombres y mujeres en cuanto a su satisfacción y reconocimiento por parte de la empresa. Ambos gráficos indican que, aunque hay una ligera variación en los niveles de satisfacción y reconocimiento, esta diferencia no es lo suficientemente marcada como para concluir que uno de los géneros recibe un trato preferencial. Además, la discrepancia observada podría explicarse en parte por la diferencia en el número de empleados contratados de cada género, lo que sugiere que la muestra puede influir en las percepciones de satisfacción y reconocimiento. En resumen, los resultados sugieren que el género no es un factor determinante en la satisfacción laboral ni en el reconocimiento recibido por parte de la empresa."
      ],
      "metadata": {
        "id": "K-ogJJy4c-o6"
      }
    },
    {
      "cell_type": "code",
      "source": [
        "plt.figure(figsize=(12, 6))\n",
        "sns.countplot(data=data, x='Job Satisfaction', hue= data['Marital Status']=='Single', palette='pastel',\n",
        "               order=['Low', 'Medium', 'High','Very High'])\n",
        "plt.title('Comparación de Satisfacción Laboral por Estado Civil')\n",
        "plt.xlabel('Satisfacción Laboral')\n",
        "plt.ylabel('Número de Empleados')\n",
        "plt.legend(title='Género', loc='upper right', labels=['Casado o Divorciado', 'Soltero'])\n",
        "plt.show()"
      ],
      "metadata": {
        "colab": {
          "base_uri": "https://localhost:8080/",
          "height": 565
        },
        "id": "VmobVNTUZsTe",
        "outputId": "34f8497d-079f-4255-e0b9-87e646b77938"
      },
      "execution_count": 16,
      "outputs": [
        {
          "output_type": "display_data",
          "data": {
            "text/plain": [
              "<Figure size 1200x600 with 1 Axes>"
            ],
            "image/png": "[encoded data removed]"
          },
          "metadata": {}
        }
      ]
    },
    {
      "cell_type": "markdown",
      "source": [
        "Por el contrario, el análisis revela una notable disparidad en los niveles de satisfacción laboral entre empleados solteros y aquellos que no lo son. Los datos muestran que, afortunadamente, el porcentaje más alto corresponde a la categoría de satisfacción alta ('high'), pero la diferencia entre solteros y no solteros es significativa. Los empleados no solteros presentan una satisfacción laboral considerablemente más alta, lo que sugiere que factores como la estabilidad personal y el apoyo familiar pueden influir positivamente en su experiencia laboral. Esta observación destaca la importancia de considerar el estado civil como un factor relevante en el análisis de la satisfacción laboral dentro de la organización."
      ],
      "metadata": {
        "id": "kAc7aNB3dNTO"
      }
    },
    {
      "cell_type": "markdown",
      "source": [
        "Otro factor muy importante a la hora de analizar las razones por la cual un empleado podría renunciar o no es el salario mensual. La compensación económica no solo afecta directamente la satisfacción laboral, sino que también influye en la percepción de reconocimiento y valor dentro de la empresa. Un salario competitivo puede ser un incentivo significativo para la retención de talento, mientras que una remuneración insatisfactoria puede aumentar la probabilidad de que los empleados busquen oportunidades en otros lugares."
      ],
      "metadata": {
        "id": "FuXHiIp8fmaC"
      }
    },
    {
      "cell_type": "code",
      "source": [
        "plt.figure(figsize=(10, 6))\n",
        "sns.boxplot(data=data, x='Monthly Income', palette='pastel')\n",
        "plt.title('Salario Mensual', fontsize=16)\n",
        "plt.xlabel('Salario mensual (USD)', fontsize=14)\n",
        "plt.show()"
      ],
      "metadata": {
        "colab": {
          "base_uri": "https://localhost:8080/",
          "height": 683
        },
        "id": "9p1zCwr72RpG",
        "outputId": "5a5905c2-4d13-44c1-8fff-2342c0ca1afb"
      },
      "execution_count": 17,
      "outputs": [
        {
          "output_type": "stream",
          "name": "stderr",
          "text": [
            "<ipython-input-17-8bcc82d9c64e>:2: FutureWarning: \n",
            "\n",
            "Passing `palette` without assigning `hue` is deprecated and will be removed in v0.14.0. Assign the `y` variable to `hue` and set `legend=False` for the same effect.\n",
            "\n",
            "  sns.boxplot(data=data, x='Monthly Income', palette='pastel')\n"
          ]
        },
        {
          "output_type": "display_data",
          "data": {
            "text/plain": [
              "<Figure size 1000x600 with 1 Axes>"
            ],
            "image/png": "[encoded data removed]"
          },
          "metadata": {}
        }
      ]
    },
    {
      "cell_type": "code",
      "source": [
        "plt.figure(figsize=(10, 6))\n",
        "sns.histplot(data['Monthly Income'], color='skyblue', edgecolor='black',bins=30)\n",
        "plt.title('Distribución del Salario Mensual')\n",
        "plt.xlabel('Salario Mensual (USD)')\n",
        "plt.ylabel('Empleados')\n",
        "plt.show()"
      ],
      "metadata": {
        "colab": {
          "base_uri": "https://localhost:8080/",
          "height": 564
        },
        "id": "_6Z7BDskZ6l7",
        "outputId": "b9615f2b-5bb9-4122-f639-e82d959a3f81"
      },
      "execution_count": 18,
      "outputs": [
        {
          "output_type": "display_data",
          "data": {
            "text/plain": [
              "<Figure size 1000x600 with 1 Axes>"
            ],
            "image/png": "[encoded data removed]"
          },
          "metadata": {}
        }
      ]
    },
    {
      "cell_type": "code",
      "source": [
        "plt.figure(figsize=(10,6))\n",
        "sns.boxplot(data= data, y= 'Gender', x= 'Monthly Income', palette='pastel')\n",
        "plt.title('Boxplot comparativo Género vs Salario')\n",
        "plt.ylabel('Género')\n",
        "plt.xlabel('Salario (USD)')\n",
        "plt.show()"
      ],
      "metadata": {
        "colab": {
          "base_uri": "https://localhost:8080/",
          "height": 677
        },
        "id": "8bE8MYDChArF",
        "outputId": "9634c2a4-f214-4ce7-eb94-26c69c20fd56"
      },
      "execution_count": 19,
      "outputs": [
        {
          "output_type": "stream",
          "name": "stderr",
          "text": [
            "<ipython-input-19-ddac8430ac15>:2: FutureWarning: \n",
            "\n",
            "Passing `palette` without assigning `hue` is deprecated and will be removed in v0.14.0. Assign the `y` variable to `hue` and set `legend=False` for the same effect.\n",
            "\n",
            "  sns.boxplot(data= data, y= 'Gender', x= 'Monthly Income', palette='pastel')\n"
          ]
        },
        {
          "output_type": "display_data",
          "data": {
            "text/plain": [
              "<Figure size 1000x600 with 1 Axes>"
            ],
            "image/png": "[encoded data removed]"
          },
          "metadata": {}
        }
      ]
    },
    {
      "cell_type": "code",
      "source": [
        "plt.figure(figsize=(10,6))\n",
        "sns.boxplot(data= data, y= 'Marital Status', x= 'Monthly Income', palette='pastel')\n",
        "plt.title('Boxplot comparativo Estado Civil vs Salario')\n",
        "plt.ylabel('Estado Civil')\n",
        "plt.xlabel('Salario (USD)')\n",
        "plt.show()"
      ],
      "metadata": {
        "colab": {
          "base_uri": "https://localhost:8080/",
          "height": 676
        },
        "id": "injWiMJahKdH",
        "outputId": "9323aeb5-88f3-48fe-c1c9-a39696731b13"
      },
      "execution_count": 20,
      "outputs": [
        {
          "output_type": "stream",
          "name": "stderr",
          "text": [
            "<ipython-input-20-98603ba3c62e>:2: FutureWarning: \n",
            "\n",
            "Passing `palette` without assigning `hue` is deprecated and will be removed in v0.14.0. Assign the `y` variable to `hue` and set `legend=False` for the same effect.\n",
            "\n",
            "  sns.boxplot(data= data, y= 'Marital Status', x= 'Monthly Income', palette='pastel')\n"
          ]
        },
        {
          "output_type": "display_data",
          "data": {
            "text/plain": [
              "<Figure size 1000x600 with 1 Axes>"
            ],
            "image/png": "[encoded data removed]"
          },
          "metadata": {}
        }
      ]
    },
    {
      "cell_type": "markdown",
      "source": [
        "La comparación de los boxplots de género y estado civil frente al salario mensual revela que, a pesar de no observar diferencias significativas en los cuartiles de ambos grupos, la presencia de outliers sugiere que hay casos atípicos que podrían influir en la interpretación de los datos. Estos outliers pueden representar situaciones excepcionales, como empleados en posiciones de alta dirección o roles altamente especializados, que no reflejan la tendencia general de salarios dentro de cada categoría."
      ],
      "metadata": {
        "id": "MwqMbLsrlqxK"
      }
    },
    {
      "cell_type": "markdown",
      "source": [
        "Otra área muy importante a analizar puede ser el bienestar laboral, ¿ hay relación entre las horas extras que ejercen los empleados y las renuncias? ¿Cómo perciben los empleados el balance entre el trabajo y su vida personal?"
      ],
      "metadata": {
        "id": "wfY9nMiCkwb4"
      }
    },
    {
      "cell_type": "code",
      "source": [
        "plt.figure(figsize=(10, 6))\n",
        "sns.countplot(data=data, x='Work-Life Balance', hue='Attrition', palette='pastel',\n",
        "              order=['Poor', 'Fair', 'Good','Excellent'])\n",
        "plt.title('Balance entre vida profesional y personal')\n",
        "plt.xlabel('Balance laboral')\n",
        "plt.ylabel('Número de Empleados')\n",
        "plt.legend(title='Renuncias', loc='upper right', labels=['No', 'Sí'])\n",
        "plt.show()"
      ],
      "metadata": {
        "colab": {
          "base_uri": "https://localhost:8080/",
          "height": 564
        },
        "id": "I4YZx9tzkpjv",
        "outputId": "aa517808-b71c-44cd-8876-8cb09f33aa98"
      },
      "execution_count": 21,
      "outputs": [
        {
          "output_type": "display_data",
          "data": {
            "text/plain": [
              "<Figure size 1000x600 with 1 Axes>"
            ],
            "image/png": "[encoded data removed]"
          },
          "metadata": {}
        }
      ]
    },
    {
      "cell_type": "code",
      "source": [
        "plt.figure(figsize=(10, 6))\n",
        "sns.countplot(data=data, x='Overtime', hue='Attrition', palette='pastel')\n",
        "plt.title('Horas Extras')\n",
        "plt.xlabel('Horas Extras')\n",
        "plt.ylabel('Número de Empleados')\n",
        "plt.legend(title='Renuncias', loc='upper right', labels=['No', 'Sí'])\n",
        "plt.show()"
      ],
      "metadata": {
        "colab": {
          "base_uri": "https://localhost:8080/",
          "height": 564
        },
        "id": "D4YAEJTRpnpY",
        "outputId": "ed9ed3b4-6394-483b-9199-748ad77c911d"
      },
      "execution_count": 22,
      "outputs": [
        {
          "output_type": "display_data",
          "data": {
            "text/plain": [
              "<Figure size 1000x600 with 1 Axes>"
            ],
            "image/png": "[encoded data removed]"
          },
          "metadata": {}
        }
      ]
    },
    {
      "cell_type": "markdown",
      "source": [
        "Los gráficos muestran una clara tendencia en la relación entre la renuncia de empleados y dos factores clave: el equilibrio entre vida profesional y personal y las horas extras trabajadas. Los empleados que perciben un balance pobre en su vida personal son más propensos a renunciar, indicando que esta insatisfacción puede influir en su decisión de dejar la empresa. Asimismo, el aumento de horas extras se asocia con una mayor tasa de renuncias. Estos hallazgos resaltan la necesidad de políticas que promuevan un mejor balance entre trabajo y vida personal, así como una gestión adecuada de la carga laboral, para mejorar la retención de talento."
      ],
      "metadata": {
        "id": "vn0VQSt-reXN"
      }
    },
    {
      "cell_type": "code",
      "source": [
        "plt.figure(figsize=(10, 6))\n",
        "sns.boxplot(data=data, x='Years at Company', palette='pastel')\n",
        "plt.title('Boxplot de Años en la Empresa', fontsize=16)\n",
        "plt.xlabel('Años en la Empresa', fontsize=14)\n",
        "plt.show()"
      ],
      "metadata": {
        "colab": {
          "base_uri": "https://localhost:8080/",
          "height": 683
        },
        "id": "iAdUoDw31UXw",
        "outputId": "330506dd-8cf5-4891-c87e-5eef2a82a157"
      },
      "execution_count": 23,
      "outputs": [
        {
          "output_type": "stream",
          "name": "stderr",
          "text": [
            "<ipython-input-23-c84589b8cba6>:2: FutureWarning: \n",
            "\n",
            "Passing `palette` without assigning `hue` is deprecated and will be removed in v0.14.0. Assign the `y` variable to `hue` and set `legend=False` for the same effect.\n",
            "\n",
            "  sns.boxplot(data=data, x='Years at Company', palette='pastel')\n"
          ]
        },
        {
          "output_type": "display_data",
          "data": {
            "text/plain": [
              "<Figure size 1000x600 with 1 Axes>"
            ],
            "image/png": "[encoded data removed]"
          },
          "metadata": {}
        }
      ]
    },
    {
      "cell_type": "markdown",
      "source": [
        "\n",
        "A través de este boxplot, se identifican varios outliers en la variable 'Años en la compañía' ('Years at Company'). Para determinar si estos valores son errores humanos que deben ser eliminados, aplicaré el método del Inter Quartile Range (IQR). En este análisis, compararé únicamente la columna 'Años en la compañía' con la columna 'Edad'. Si no existe una relación lógica entre la edad del empleado y los años que ha trabajado, esto indicaría que los datos podrían ser incorrectos."
      ],
      "metadata": {
        "id": "6JitwxKy2nJV"
      }
    },
    {
      "cell_type": "code",
      "source": [
        "columnas_comparar = ['Years at Company', 'Age']  # Añade las columnas que desees\n",
        "\n",
        "# Calcula el IQR para 'Years at Company'\n",
        "Q1 = data['Years at Company'].quantile(0.25)\n",
        "Q3 = data['Years at Company'].quantile(0.75)\n",
        "IQR = Q3 - Q1\n",
        "\n",
        "# Define los límites inferior y superior\n",
        "lower_bound = Q1 - 1.5 * IQR\n",
        "upper_bound = Q3 + 1.5 * IQR\n",
        "\n",
        "# Encuentra los outliers\n",
        "outliers = data[(data['Years at Company'] < lower_bound) |\n",
        "                          (data['Years at Company'] > upper_bound)]\n",
        "\n",
        "# Imprimir los resultados\n",
        "print(f\"Límite inferior: {lower_bound}\")\n",
        "print(f\"Límite superior: {upper_bound}\")\n",
        "print(f\"Número de outliers en 'Years at Company': {len(outliers)}\")\n",
        "print(\"Outliers encontrados:\")\n",
        "print(outliers[columnas_comparar])"
      ],
      "metadata": {
        "colab": {
          "base_uri": "https://localhost:8080/"
        },
        "id": "4sfTqBUb5oVy",
        "outputId": "0e7d0f6a-8a5b-4e94-a322-bab87c3152c9"
      },
      "execution_count": 24,
      "outputs": [
        {
          "output_type": "stream",
          "name": "stdout",
          "text": [
            "Límite inferior: -17.0\n",
            "Límite superior: 47.0\n",
            "Número de outliers en 'Years at Company': 338\n",
            "Outliers encontrados:\n",
            "       Years at Company  Age\n",
            "465                  48   58\n",
            "662                  49   57\n",
            "843                  49   59\n",
            "1373                 48   56\n",
            "1567                 48   59\n",
            "...                 ...  ...\n",
            "73109                48   57\n",
            "74041                48   57\n",
            "74045                51   59\n",
            "74304                48   56\n",
            "74497                48   59\n",
            "\n",
            "[338 rows x 2 columns]\n"
          ]
        }
      ]
    },
    {
      "cell_type": "markdown",
      "source": [
        "Como era de esperar, la proporción entre los años trabajados y la edad no tiene sentido. Para que estos empleados hayan estado en la compañía más de 50 años, tendrían que haber comenzado a trabajar en su infancia, lo cual es improbable. Esto refuerza la necesidad de revisar y posiblemente eliminar estos outliers."
      ],
      "metadata": {
        "id": "78IDYbv1ubCp"
      }
    },
    {
      "cell_type": "code",
      "source": [
        "#Creo un nuevo dataframe con datos limpios\n",
        "data_limpio = data[(data['Years at Company'] >= lower_bound) &\n",
        "                   (data['Years at Company'] <= upper_bound)]"
      ],
      "metadata": {
        "id": "K5XjJVPF7iZN"
      },
      "execution_count": 25,
      "outputs": []
    },
    {
      "cell_type": "code",
      "source": [
        "plt.figure(figsize=(10, 6))\n",
        "sns.countplot(data=data, x='Company Reputation', palette='pastel',\n",
        "              order=['Poor', 'Fair', 'Good','Excellent'])\n",
        "\n",
        "plt.title('Reputación de la Compañía según empleados')\n",
        "plt.xlabel('Reputación de la Compañía')\n",
        "plt.ylabel('Número de Empleados')\n",
        "plt.legend(title='Renuncias', loc='upper right', labels=['No', 'Sí'])\n",
        "plt.show()"
      ],
      "metadata": {
        "colab": {
          "base_uri": "https://localhost:8080/",
          "height": 677
        },
        "id": "NPvXeKDBuaxZ",
        "outputId": "ac844354-cb0d-4462-8518-b33223158df8"
      },
      "execution_count": 26,
      "outputs": [
        {
          "output_type": "stream",
          "name": "stderr",
          "text": [
            "<ipython-input-26-83aa261b4dce>:2: FutureWarning: \n",
            "\n",
            "Passing `palette` without assigning `hue` is deprecated and will be removed in v0.14.0. Assign the `x` variable to `hue` and set `legend=False` for the same effect.\n",
            "\n",
            "  sns.countplot(data=data, x='Company Reputation', palette='pastel',\n"
          ]
        },
        {
          "output_type": "display_data",
          "data": {
            "text/plain": [
              "<Figure size 1000x600 with 1 Axes>"
            ],
            "image/png": "[encoded data removed]"
          },
          "metadata": {}
        }
      ]
    },
    {
      "cell_type": "markdown",
      "source": [
        "Se puede concluir que un gran porcentaje de empleados, incluidos aquellos que han renunciado, consideran a la empresa un buen lugar para trabajar. Sin embargo, aunque esta percepción positiva es notable, la proporción de quienes la califican como excelente es considerablemente menor, y hay un número significativo de empleados que la consideran pobre. Esto sugiere que, a pesar de que muchos valoran la empresa positivamente, aún existen áreas de mejora que podrían fortalecer aún más su reputación como un excelente lugar para trabajar."
      ],
      "metadata": {
        "id": "5Ce_0GE1wxCv"
      }
    },
    {
      "cell_type": "markdown",
      "source": [
        "### Correlación entre variables"
      ],
      "metadata": {
        "id": "aeY4fiP4mqkf"
      }
    },
    {
      "cell_type": "code",
      "source": [
        "# No logré que me salga bien el gráfico de correlación"
      ],
      "metadata": {
        "id": "SYOQYl5pLskg"
      },
      "execution_count": null,
      "outputs": []
    },
    {
      "cell_type": "code",
      "source": [
        "#columnas_selec = ['Age','Years at Company','Monthly Income','Number of Promotions']\n",
        "#columnas_categoricas = ['Job Satisfaction','Employee Recognition','Performance Rating','Attrition']\n",
        "\n",
        "#data_categoricas = pd.get_dummies(data_empleados[columnas_categoricas], drop_first=True)\n",
        "\n",
        "#columnas_comb = pd.concat([data_empleados[columnas_numericas], data_categoricas], axis=1)\n",
        "#empleados_mx = columnas_comb.corr()\n",
        "#empleados_mx\n",
        "\n",
        "#sns.heatmap(empleados_mx, annot=True, fmt=\".2f\", cmap='coolwarm',\n",
        "            #square=True,)\n",
        "#plt.title('Mapa de Calor de la Matriz de Correlación - Empleados', fontsize=16)\n",
        "#plt.xticks(rotation=45)\n",
        "#plt.yticks(rotation=0)\n",
        "#plt.show()"
      ],
      "metadata": {
        "id": "IbfVYsYDm4hp"
      },
      "execution_count": 23,
      "outputs": []
    },
    {
      "cell_type": "code",
      "source": [
        "data_limpio.columns\n"
      ],
      "metadata": {
        "colab": {
          "base_uri": "https://localhost:8080/"
        },
        "id": "_9UcXuvFiyHR",
        "outputId": "6ab84d61-f799-485c-ed97-ca62789316a5"
      },
      "execution_count": 27,
      "outputs": [
        {
          "output_type": "execute_result",
          "data": {
            "text/plain": [
              "Index(['Age', 'Gender', 'Years at Company', 'Job Role', 'Monthly Income',\n",
              "       'Work-Life Balance', 'Job Satisfaction', 'Performance Rating',\n",
              "       'Number of Promotions', 'Overtime', 'Distance from Home',\n",
              "       'Education Level', 'Marital Status', 'Number of Dependents',\n",
              "       'Job Level', 'Company Size', 'Remote Work', 'Leadership Opportunities',\n",
              "       'Innovation Opportunities', 'Company Reputation',\n",
              "       'Employee Recognition', 'Attrition'],\n",
              "      dtype='object')"
            ]
          },
          "metadata": {},
          "execution_count": 27
        }
      ]
    },
    {
      "cell_type": "markdown",
      "source": [
        "# Modelado"
      ],
      "metadata": {
        "id": "10YNeFGYjSoo"
      }
    },
    {
      "cell_type": "markdown",
      "source": [
        "## Preparación para el modelado"
      ],
      "metadata": {
        "id": "SQH2hTlHDBQy"
      }
    },
    {
      "cell_type": "code",
      "source": [
        "# Convierto variables categóricas a numéricas\n",
        "data_empleados = pd.get_dummies(data_limpio, columns=['Gender', 'Job Role',\n",
        "       'Work-Life Balance', 'Job Satisfaction', 'Performance Rating',\n",
        "       'Overtime', 'Education Level', 'Marital Status', 'Job Level', 'Company Size',\n",
        "       'Remote Work', 'Leadership Opportunities', 'Innovation Opportunities',\n",
        "       'Company Reputation', 'Employee Recognition'])\n",
        "data_empleados\n"
      ],
      "metadata": {
        "colab": {
          "base_uri": "https://localhost:8080/",
          "height": 478
        },
        "id": "5XqokTO3jRlF",
        "outputId": "56dac3af-c544-4ffb-af5d-c740c3fca93e"
      },
      "execution_count": 32,
      "outputs": [
        {
          "output_type": "execute_result",
          "data": {
            "text/plain": [
              "       Age  Years at Company  Monthly Income  Number of Promotions  \\\n",
              "0       31                19            5390                     2   \n",
              "1       59                 4            5534                     3   \n",
              "2       24                10            8159                     0   \n",
              "3       36                 7            3989                     1   \n",
              "4       56                41            4821                     0   \n",
              "...    ...               ...             ...                   ...   \n",
              "74492   52                13            9296                     1   \n",
              "74493   56                42            7830                     0   \n",
              "74494   30                15            3856                     2   \n",
              "74495   52                 5            5654                     0   \n",
              "74496   18                 4            5276                     0   \n",
              "\n",
              "       Distance from Home  Number of Dependents Attrition  Gender_Female  \\\n",
              "0                      22                     0    Stayed          False   \n",
              "1                      21                     3    Stayed           True   \n",
              "2                      11                     3    Stayed           True   \n",
              "3                      27                     2    Stayed           True   \n",
              "4                      71                     0    Stayed          False   \n",
              "...                   ...                   ...       ...            ...   \n",
              "74492                  31                     1    Stayed          False   \n",
              "74493                  40                     0    Stayed           True   \n",
              "74494                  45                     0      Left           True   \n",
              "74495                   4                     4      Left          False   \n",
              "74496                  13                     3    Stayed          False   \n",
              "\n",
              "       Gender_Male  Job Role_Education  ...  Innovation Opportunities_No  \\\n",
              "0             True                True  ...                         True   \n",
              "1            False               False  ...                         True   \n",
              "2            False               False  ...                         True   \n",
              "3            False                True  ...                         True   \n",
              "4             True                True  ...                         True   \n",
              "...            ...                 ...  ...                          ...   \n",
              "74492         True               False  ...                         True   \n",
              "74493        False               False  ...                         True   \n",
              "74494        False                True  ...                         True   \n",
              "74495         True                True  ...                         True   \n",
              "74496         True                True  ...                         True   \n",
              "\n",
              "       Innovation Opportunities_Yes  Company Reputation_Excellent  \\\n",
              "0                             False                          True   \n",
              "1                             False                         False   \n",
              "2                             False                         False   \n",
              "3                             False                         False   \n",
              "4                             False                         False   \n",
              "...                             ...                           ...   \n",
              "74492                         False                         False   \n",
              "74493                         False                         False   \n",
              "74494                         False                         False   \n",
              "74495                         False                         False   \n",
              "74496                         False                         False   \n",
              "\n",
              "       Company Reputation_Fair  Company Reputation_Good  \\\n",
              "0                        False                    False   \n",
              "1                         True                    False   \n",
              "2                        False                    False   \n",
              "3                        False                     True   \n",
              "4                         True                    False   \n",
              "...                        ...                      ...   \n",
              "74492                    False                    False   \n",
              "74493                    False                    False   \n",
              "74494                    False                     True   \n",
              "74495                    False                     True   \n",
              "74496                    False                    False   \n",
              "\n",
              "       Company Reputation_Poor  Employee Recognition_High  \\\n",
              "0                        False                      False   \n",
              "1                        False                      False   \n",
              "2                         True                      False   \n",
              "3                        False                      False   \n",
              "4                        False                      False   \n",
              "...                        ...                        ...   \n",
              "74492                     True                      False   \n",
              "74493                     True                      False   \n",
              "74494                    False                      False   \n",
              "74495                    False                       True   \n",
              "74496                     True                       True   \n",
              "\n",
              "       Employee Recognition_Low  Employee Recognition_Medium  \\\n",
              "0                         False                         True   \n",
              "1                          True                        False   \n",
              "2                          True                        False   \n",
              "3                         False                         True   \n",
              "4                         False                         True   \n",
              "...                         ...                          ...   \n",
              "74492                      True                        False   \n",
              "74493                     False                         True   \n",
              "74494                     False                         True   \n",
              "74495                     False                        False   \n",
              "74496                     False                        False   \n",
              "\n",
              "       Employee Recognition_Very High  \n",
              "0                               False  \n",
              "1                               False  \n",
              "2                               False  \n",
              "3                               False  \n",
              "4                               False  \n",
              "...                               ...  \n",
              "74492                           False  \n",
              "74493                           False  \n",
              "74494                           False  \n",
              "74495                           False  \n",
              "74496                           False  \n",
              "\n",
              "[74160 rows x 56 columns]"
            ],
            "text/html": [
              "\n",
              "  <div id=\"df-f55a6261-c54a-4494-b4b8-73efc7002d4c\" class=\"colab-df-container\">\n",
              "    <div>\n",
              "<style scoped>\n",
              "    .dataframe tbody tr th:only-of-type {\n",
              "        vertical-align: middle;\n",
              "    }\n",
              "\n",
              "    .dataframe tbody tr th {\n",
              "        vertical-align: top;\n",
              "    }\n",
              "\n",
              "    .dataframe thead th {\n",
              "        text-align: right;\n",
              "    }\n",
              "</style>\n",
              "<table border=\"1\" class=\"dataframe\">\n",
              "  <thead>\n",
              "    <tr style=\"text-align: right;\">\n",
              "      <th></th>\n",
              "      <th>Age</th>\n",
              "      <th>Years at Company</th>\n",
              "      <th>Monthly Income</th>\n",
              "      <th>Number of Promotions</th>\n",
              "      <th>Distance from Home</th>\n",
              "      <th>Number of Dependents</th>\n",
              "      <th>Attrition</th>\n",
              "      <th>Gender_Female</th>\n",
              "      <th>Gender_Male</th>\n",
              "      <th>Job Role_Education</th>\n",
              "      <th>...</th>\n",
              "      <th>Innovation Opportunities_No</th>\n",
              "      <th>Innovation Opportunities_Yes</th>\n",
              "      <th>Company Reputation_Excellent</th>\n",
              "      <th>Company Reputation_Fair</th>\n",
              "      <th>Company Reputation_Good</th>\n",
              "      <th>Company Reputation_Poor</th>\n",
              "      <th>Employee Recognition_High</th>\n",
              "      <th>Employee Recognition_Low</th>\n",
              "      <th>Employee Recognition_Medium</th>\n",
              "      <th>Employee Recognition_Very High</th>\n",
              "    </tr>\n",
              "  </thead>\n",
              "  <tbody>\n",
              "    <tr>\n",
              "      <th>0</th>\n",
              "      <td>31</td>\n",
              "      <td>19</td>\n",
              "      <td>5390</td>\n",
              "      <td>2</td>\n",
              "      <td>22</td>\n",
              "      <td>0</td>\n",
              "      <td>Stayed</td>\n",
              "      <td>False</td>\n",
              "      <td>True</td>\n",
              "      <td>True</td>\n",
              "      <td>...</td>\n",
              "      <td>True</td>\n",
              "      <td>False</td>\n",
              "      <td>True</td>\n",
              "      <td>False</td>\n",
              "      <td>False</td>\n",
              "      <td>False</td>\n",
              "      <td>False</td>\n",
              "      <td>False</td>\n",
              "      <td>True</td>\n",
              "      <td>False</td>\n",
              "    </tr>\n",
              "    <tr>\n",
              "      <th>1</th>\n",
              "      <td>59</td>\n",
              "      <td>4</td>\n",
              "      <td>5534</td>\n",
              "      <td>3</td>\n",
              "      <td>21</td>\n",
              "      <td>3</td>\n",
              "      <td>Stayed</td>\n",
              "      <td>True</td>\n",
              "      <td>False</td>\n",
              "      <td>False</td>\n",
              "      <td>...</td>\n",
              "      <td>True</td>\n",
              "      <td>False</td>\n",
              "      <td>False</td>\n",
              "      <td>True</td>\n",
              "      <td>False</td>\n",
              "      <td>False</td>\n",
              "      <td>False</td>\n",
              "      <td>True</td>\n",
              "      <td>False</td>\n",
              "      <td>False</td>\n",
              "    </tr>\n",
              "    <tr>\n",
              "      <th>2</th>\n",
              "      <td>24</td>\n",
              "      <td>10</td>\n",
              "      <td>8159</td>\n",
              "      <td>0</td>\n",
              "      <td>11</td>\n",
              "      <td>3</td>\n",
              "      <td>Stayed</td>\n",
              "      <td>True</td>\n",
              "      <td>False</td>\n",
              "      <td>False</td>\n",
              "      <td>...</td>\n",
              "      <td>True</td>\n",
              "      <td>False</td>\n",
              "      <td>False</td>\n",
              "      <td>False</td>\n",
              "      <td>False</td>\n",
              "      <td>True</td>\n",
              "      <td>False</td>\n",
              "      <td>True</td>\n",
              "      <td>False</td>\n",
              "      <td>False</td>\n",
              "    </tr>\n",
              "    <tr>\n",
              "      <th>3</th>\n",
              "      <td>36</td>\n",
              "      <td>7</td>\n",
              "      <td>3989</td>\n",
              "      <td>1</td>\n",
              "      <td>27</td>\n",
              "      <td>2</td>\n",
              "      <td>Stayed</td>\n",
              "      <td>True</td>\n",
              "      <td>False</td>\n",
              "      <td>True</td>\n",
              "      <td>...</td>\n",
              "      <td>True</td>\n",
              "      <td>False</td>\n",
              "      <td>False</td>\n",
              "      <td>False</td>\n",
              "      <td>True</td>\n",
              "      <td>False</td>\n",
              "      <td>False</td>\n",
              "      <td>False</td>\n",
              "      <td>True</td>\n",
              "      <td>False</td>\n",
              "    </tr>\n",
              "    <tr>\n",
              "      <th>4</th>\n",
              "      <td>56</td>\n",
              "      <td>41</td>\n",
              "      <td>4821</td>\n",
              "      <td>0</td>\n",
              "      <td>71</td>\n",
              "      <td>0</td>\n",
              "      <td>Stayed</td>\n",
              "      <td>False</td>\n",
              "      <td>True</td>\n",
              "      <td>True</td>\n",
              "      <td>...</td>\n",
              "      <td>True</td>\n",
              "      <td>False</td>\n",
              "      <td>False</td>\n",
              "      <td>True</td>\n",
              "      <td>False</td>\n",
              "      <td>False</td>\n",
              "      <td>False</td>\n",
              "      <td>False</td>\n",
              "      <td>True</td>\n",
              "      <td>False</td>\n",
              "    </tr>\n",
              "    <tr>\n",
              "      <th>...</th>\n",
              "      <td>...</td>\n",
              "      <td>...</td>\n",
              "      <td>...</td>\n",
              "      <td>...</td>\n",
              "      <td>...</td>\n",
              "      <td>...</td>\n",
              "      <td>...</td>\n",
              "      <td>...</td>\n",
              "      <td>...</td>\n",
              "      <td>...</td>\n",
              "      <td>...</td>\n",
              "      <td>...</td>\n",
              "      <td>...</td>\n",
              "      <td>...</td>\n",
              "      <td>...</td>\n",
              "      <td>...</td>\n",
              "      <td>...</td>\n",
              "      <td>...</td>\n",
              "      <td>...</td>\n",
              "      <td>...</td>\n",
              "      <td>...</td>\n",
              "    </tr>\n",
              "    <tr>\n",
              "      <th>74492</th>\n",
              "      <td>52</td>\n",
              "      <td>13</td>\n",
              "      <td>9296</td>\n",
              "      <td>1</td>\n",
              "      <td>31</td>\n",
              "      <td>1</td>\n",
              "      <td>Stayed</td>\n",
              "      <td>False</td>\n",
              "      <td>True</td>\n",
              "      <td>False</td>\n",
              "      <td>...</td>\n",
              "      <td>True</td>\n",
              "      <td>False</td>\n",
              "      <td>False</td>\n",
              "      <td>False</td>\n",
              "      <td>False</td>\n",
              "      <td>True</td>\n",
              "      <td>False</td>\n",
              "      <td>True</td>\n",
              "      <td>False</td>\n",
              "      <td>False</td>\n",
              "    </tr>\n",
              "    <tr>\n",
              "      <th>74493</th>\n",
              "      <td>56</td>\n",
              "      <td>42</td>\n",
              "      <td>7830</td>\n",
              "      <td>0</td>\n",
              "      <td>40</td>\n",
              "      <td>0</td>\n",
              "      <td>Stayed</td>\n",
              "      <td>True</td>\n",
              "      <td>False</td>\n",
              "      <td>False</td>\n",
              "      <td>...</td>\n",
              "      <td>True</td>\n",
              "      <td>False</td>\n",
              "      <td>False</td>\n",
              "      <td>False</td>\n",
              "      <td>False</td>\n",
              "      <td>True</td>\n",
              "      <td>False</td>\n",
              "      <td>False</td>\n",
              "      <td>True</td>\n",
              "      <td>False</td>\n",
              "    </tr>\n",
              "    <tr>\n",
              "      <th>74494</th>\n",
              "      <td>30</td>\n",
              "      <td>15</td>\n",
              "      <td>3856</td>\n",
              "      <td>2</td>\n",
              "      <td>45</td>\n",
              "      <td>0</td>\n",
              "      <td>Left</td>\n",
              "      <td>True</td>\n",
              "      <td>False</td>\n",
              "      <td>True</td>\n",
              "      <td>...</td>\n",
              "      <td>True</td>\n",
              "      <td>False</td>\n",
              "      <td>False</td>\n",
              "      <td>False</td>\n",
              "      <td>True</td>\n",
              "      <td>False</td>\n",
              "      <td>False</td>\n",
              "      <td>False</td>\n",
              "      <td>True</td>\n",
              "      <td>False</td>\n",
              "    </tr>\n",
              "    <tr>\n",
              "      <th>74495</th>\n",
              "      <td>52</td>\n",
              "      <td>5</td>\n",
              "      <td>5654</td>\n",
              "      <td>0</td>\n",
              "      <td>4</td>\n",
              "      <td>4</td>\n",
              "      <td>Left</td>\n",
              "      <td>False</td>\n",
              "      <td>True</td>\n",
              "      <td>True</td>\n",
              "      <td>...</td>\n",
              "      <td>True</td>\n",
              "      <td>False</td>\n",
              "      <td>False</td>\n",
              "      <td>False</td>\n",
              "      <td>True</td>\n",
              "      <td>False</td>\n",
              "      <td>True</td>\n",
              "      <td>False</td>\n",
              "      <td>False</td>\n",
              "      <td>False</td>\n",
              "    </tr>\n",
              "    <tr>\n",
              "      <th>74496</th>\n",
              "      <td>18</td>\n",
              "      <td>4</td>\n",
              "      <td>5276</td>\n",
              "      <td>0</td>\n",
              "      <td>13</td>\n",
              "      <td>3</td>\n",
              "      <td>Stayed</td>\n",
              "      <td>False</td>\n",
              "      <td>True</td>\n",
              "      <td>True</td>\n",
              "      <td>...</td>\n",
              "      <td>True</td>\n",
              "      <td>False</td>\n",
              "      <td>False</td>\n",
              "      <td>False</td>\n",
              "      <td>False</td>\n",
              "      <td>True</td>\n",
              "      <td>True</td>\n",
              "      <td>False</td>\n",
              "      <td>False</td>\n",
              "      <td>False</td>\n",
              "    </tr>\n",
              "  </tbody>\n",
              "</table>\n",
              "<p>74160 rows × 56 columns</p>\n",
              "</div>\n",
              "    <div class=\"colab-df-buttons\">\n",
              "\n",
              "  <div class=\"colab-df-container\">\n",
              "    <button class=\"colab-df-convert\" onclick=\"convertToInteractive('df-f55a6261-c54a-4494-b4b8-73efc7002d4c')\"\n",
              "            title=\"Convert this dataframe to an interactive table.\"\n",
              "            style=\"display:none;\">\n",
              "\n",
              "  <svg xmlns=\"http://www.w3.org/2000/svg\" height=\"24px\" viewBox=\"0 -960 960 960\">\n",
              "    <path d=\"M120-120v-720h720v720H120Zm60-500h600v-160H180v160Zm220 220h160v-160H400v160Zm0 220h160v-160H400v160ZM180-400h160v-160H180v160Zm440 0h160v-160H620v160ZM180-180h160v-160H180v160Zm440 0h160v-160H620v160Z\"/>\n",
              "  </svg>\n",
              "    </button>\n",
              "\n",
              "  <style>\n",
              "    .colab-df-container {\n",
              "      display:flex;\n",
              "      gap: 12px;\n",
              "    }\n",
              "\n",
              "    .colab-df-convert {\n",
              "      background-color: #E8F0FE;\n",
              "      border: none;\n",
              "      border-radius: 50%;\n",
              "      cursor: pointer;\n",
              "      display: none;\n",
              "      fill: #1967D2;\n",
              "      height: 32px;\n",
              "      padding: 0 0 0 0;\n",
              "      width: 32px;\n",
              "    }\n",
              "\n",
              "    .colab-df-convert:hover {\n",
              "      background-color: #E2EBFA;\n",
              "      box-shadow: 0px 1px 2px rgba(60, 64, 67, 0.3), 0px 1px 3px 1px rgba(60, 64, 67, 0.15);\n",
              "      fill: #174EA6;\n",
              "    }\n",
              "\n",
              "    .colab-df-buttons div {\n",
              "      margin-bottom: 4px;\n",
              "    }\n",
              "\n",
              "    [theme=dark] .colab-df-convert {\n",
              "      background-color: #3B4455;\n",
              "      fill: #D2E3FC;\n",
              "    }\n",
              "\n",
              "    [theme=dark] .colab-df-convert:hover {\n",
              "      background-color: #434B5C;\n",
              "      box-shadow: 0px 1px 3px 1px rgba(0, 0, 0, 0.15);\n",
              "      filter: drop-shadow(0px 1px 2px rgba(0, 0, 0, 0.3));\n",
              "      fill: #FFFFFF;\n",
              "    }\n",
              "  </style>\n",
              "\n",
              "    <script>\n",
              "      const buttonEl =\n",
              "        document.querySelector('#df-f55a6261-c54a-4494-b4b8-73efc7002d4c button.colab-df-convert');\n",
              "      buttonEl.style.display =\n",
              "        google.colab.kernel.accessAllowed ? 'block' : 'none';\n",
              "\n",
              "      async function convertToInteractive(key) {\n",
              "        const element = document.querySelector('#df-f55a6261-c54a-4494-b4b8-73efc7002d4c');\n",
              "        const dataTable =\n",
              "          await google.colab.kernel.invokeFunction('convertToInteractive',\n",
              "                                                    [key], {});\n",
              "        if (!dataTable) return;\n",
              "\n",
              "        const docLinkHtml = 'Like what you see? Visit the ' +\n",
              "          '<a target=\"_blank\" href=https://colab.research.google.com/notebooks/data_table.ipynb>data table notebook</a>'\n",
              "          + ' to learn more about interactive tables.';\n",
              "        element.innerHTML = '';\n",
              "        dataTable['output_type'] = 'display_data';\n",
              "        await google.colab.output.renderOutput(dataTable, element);\n",
              "        const docLink = document.createElement('div');\n",
              "        docLink.innerHTML = docLinkHtml;\n",
              "        element.appendChild(docLink);\n",
              "      }\n",
              "    </script>\n",
              "  </div>\n",
              "\n",
              "\n",
              "<div id=\"df-db73f782-9886-41a8-aba9-61165a8eed26\">\n",
              "  <button class=\"colab-df-quickchart\" onclick=\"quickchart('df-db73f782-9886-41a8-aba9-61165a8eed26')\"\n",
              "            title=\"Suggest charts\"\n",
              "            style=\"display:none;\">\n",
              "\n",
              "<svg xmlns=\"http://www.w3.org/2000/svg\" height=\"24px\"viewBox=\"0 0 24 24\"\n",
              "     width=\"24px\">\n",
              "    <g>\n",
              "        <path d=\"M19 3H5c-1.1 0-2 .9-2 2v14c0 1.1.9 2 2 2h14c1.1 0 2-.9 2-2V5c0-1.1-.9-2-2-2zM9 17H7v-7h2v7zm4 0h-2V7h2v10zm4 0h-2v-4h2v4z\"/>\n",
              "    </g>\n",
              "</svg>\n",
              "  </button>\n",
              "\n",
              "<style>\n",
              "  .colab-df-quickchart {\n",
              "      --bg-color: #E8F0FE;\n",
              "      --fill-color: #1967D2;\n",
              "      --hover-bg-color: #E2EBFA;\n",
              "      --hover-fill-color: #174EA6;\n",
              "      --disabled-fill-color: #AAA;\n",
              "      --disabled-bg-color: #DDD;\n",
              "  }\n",
              "\n",
              "  [theme=dark] .colab-df-quickchart {\n",
              "      --bg-color: #3B4455;\n",
              "      --fill-color: #D2E3FC;\n",
              "      --hover-bg-color: #434B5C;\n",
              "      --hover-fill-color: #FFFFFF;\n",
              "      --disabled-bg-color: #3B4455;\n",
              "      --disabled-fill-color: #666;\n",
              "  }\n",
              "\n",
              "  .colab-df-quickchart {\n",
              "    background-color: var(--bg-color);\n",
              "    border: none;\n",
              "    border-radius: 50%;\n",
              "    cursor: pointer;\n",
              "    display: none;\n",
              "    fill: var(--fill-color);\n",
              "    height: 32px;\n",
              "    padding: 0;\n",
              "    width: 32px;\n",
              "  }\n",
              "\n",
              "  .colab-df-quickchart:hover {\n",
              "    background-color: var(--hover-bg-color);\n",
              "    box-shadow: 0 1px 2px rgba(60, 64, 67, 0.3), 0 1px 3px 1px rgba(60, 64, 67, 0.15);\n",
              "    fill: var(--button-hover-fill-color);\n",
              "  }\n",
              "\n",
              "  .colab-df-quickchart-complete:disabled,\n",
              "  .colab-df-quickchart-complete:disabled:hover {\n",
              "    background-color: var(--disabled-bg-color);\n",
              "    fill: var(--disabled-fill-color);\n",
              "    box-shadow: none;\n",
              "  }\n",
              "\n",
              "  .colab-df-spinner {\n",
              "    border: 2px solid var(--fill-color);\n",
              "    border-color: transparent;\n",
              "    border-bottom-color: var(--fill-color);\n",
              "    animation:\n",
              "      spin 1s steps(1) infinite;\n",
              "  }\n",
              "\n",
              "  @keyframes spin {\n",
              "    0% {\n",
              "      border-color: transparent;\n",
              "      border-bottom-color: var(--fill-color);\n",
              "      border-left-color: var(--fill-color);\n",
              "    }\n",
              "    20% {\n",
              "      border-color: transparent;\n",
              "      border-left-color: var(--fill-color);\n",
              "      border-top-color: var(--fill-color);\n",
              "    }\n",
              "    30% {\n",
              "      border-color: transparent;\n",
              "      border-left-color: var(--fill-color);\n",
              "      border-top-color: var(--fill-color);\n",
              "      border-right-color: var(--fill-color);\n",
              "    }\n",
              "    40% {\n",
              "      border-color: transparent;\n",
              "      border-right-color: var(--fill-color);\n",
              "      border-top-color: var(--fill-color);\n",
              "    }\n",
              "    60% {\n",
              "      border-color: transparent;\n",
              "      border-right-color: var(--fill-color);\n",
              "    }\n",
              "    80% {\n",
              "      border-color: transparent;\n",
              "      border-right-color: var(--fill-color);\n",
              "      border-bottom-color: var(--fill-color);\n",
              "    }\n",
              "    90% {\n",
              "      border-color: transparent;\n",
              "      border-bottom-color: var(--fill-color);\n",
              "    }\n",
              "  }\n",
              "</style>\n",
              "\n",
              "  <script>\n",
              "    async function quickchart(key) {\n",
              "      const quickchartButtonEl =\n",
              "        document.querySelector('#' + key + ' button');\n",
              "      quickchartButtonEl.disabled = true;  // To prevent multiple clicks.\n",
              "      quickchartButtonEl.classList.add('colab-df-spinner');\n",
              "      try {\n",
              "        const charts = await google.colab.kernel.invokeFunction(\n",
              "            'suggestCharts', [key], {});\n",
              "      } catch (error) {\n",
              "        console.error('Error during call to suggestCharts:', error);\n",
              "      }\n",
              "      quickchartButtonEl.classList.remove('colab-df-spinner');\n",
              "      quickchartButtonEl.classList.add('colab-df-quickchart-complete');\n",
              "    }\n",
              "    (() => {\n",
              "      let quickchartButtonEl =\n",
              "        document.querySelector('#df-db73f782-9886-41a8-aba9-61165a8eed26 button');\n",
              "      quickchartButtonEl.style.display =\n",
              "        google.colab.kernel.accessAllowed ? 'block' : 'none';\n",
              "    })();\n",
              "  </script>\n",
              "</div>\n",
              "\n",
              "  <div id=\"id_0263b0d9-bbb5-412c-bbbe-c29760658f5e\">\n",
              "    <style>\n",
              "      .colab-df-generate {\n",
              "        background-color: #E8F0FE;\n",
              "        border: none;\n",
              "        border-radius: 50%;\n",
              "        cursor: pointer;\n",
              "        display: none;\n",
              "        fill: #1967D2;\n",
              "        height: 32px;\n",
              "        padding: 0 0 0 0;\n",
              "        width: 32px;\n",
              "      }\n",
              "\n",
              "      .colab-df-generate:hover {\n",
              "        background-color: #E2EBFA;\n",
              "        box-shadow: 0px 1px 2px rgba(60, 64, 67, 0.3), 0px 1px 3px 1px rgba(60, 64, 67, 0.15);\n",
              "        fill: #174EA6;\n",
              "      }\n",
              "\n",
              "      [theme=dark] .colab-df-generate {\n",
              "        background-color: #3B4455;\n",
              "        fill: #D2E3FC;\n",
              "      }\n",
              "\n",
              "      [theme=dark] .colab-df-generate:hover {\n",
              "        background-color: #434B5C;\n",
              "        box-shadow: 0px 1px 3px 1px rgba(0, 0, 0, 0.15);\n",
              "        filter: drop-shadow(0px 1px 2px rgba(0, 0, 0, 0.3));\n",
              "        fill: #FFFFFF;\n",
              "      }\n",
              "    </style>\n",
              "    <button class=\"colab-df-generate\" onclick=\"generateWithVariable('data_empleados')\"\n",
              "            title=\"Generate code using this dataframe.\"\n",
              "            style=\"display:none;\">\n",
              "\n",
              "  <svg xmlns=\"http://www.w3.org/2000/svg\" height=\"24px\"viewBox=\"0 0 24 24\"\n",
              "       width=\"24px\">\n",
              "    <path d=\"M7,19H8.4L18.45,9,17,7.55,7,17.6ZM5,21V16.75L18.45,3.32a2,2,0,0,1,2.83,0l1.4,1.43a1.91,1.91,0,0,1,.58,1.4,1.91,1.91,0,0,1-.58,1.4L9.25,21ZM18.45,9,17,7.55Zm-12,3A5.31,5.31,0,0,0,4.9,8.1,5.31,5.31,0,0,0,1,6.5,5.31,5.31,0,0,0,4.9,4.9,5.31,5.31,0,0,0,6.5,1,5.31,5.31,0,0,0,8.1,4.9,5.31,5.31,0,0,0,12,6.5,5.46,5.46,0,0,0,6.5,12Z\"/>\n",
              "  </svg>\n",
              "    </button>\n",
              "    <script>\n",
              "      (() => {\n",
              "      const buttonEl =\n",
              "        document.querySelector('#id_0263b0d9-bbb5-412c-bbbe-c29760658f5e button.colab-df-generate');\n",
              "      buttonEl.style.display =\n",
              "        google.colab.kernel.accessAllowed ? 'block' : 'none';\n",
              "\n",
              "      buttonEl.onclick = () => {\n",
              "        google.colab.notebook.generateWithVariable('data_empleados');\n",
              "      }\n",
              "      })();\n",
              "    </script>\n",
              "  </div>\n",
              "\n",
              "    </div>\n",
              "  </div>\n"
            ],
            "application/vnd.google.colaboratory.intrinsic+json": {
              "type": "dataframe",
              "variable_name": "data_empleados"
            }
          },
          "metadata": {},
          "execution_count": 32
        }
      ]
    },
    {
      "cell_type": "code",
      "source": [
        "data_empleados.columns"
      ],
      "metadata": {
        "colab": {
          "base_uri": "https://localhost:8080/"
        },
        "id": "wW1sOJQ4SZDM",
        "outputId": "95d1b8a2-cc42-466e-f082-3754db2d220f"
      },
      "execution_count": 33,
      "outputs": [
        {
          "output_type": "execute_result",
          "data": {
            "text/plain": [
              "Index(['Age', 'Years at Company', 'Monthly Income', 'Number of Promotions',\n",
              "       'Distance from Home', 'Number of Dependents', 'Attrition',\n",
              "       'Gender_Female', 'Gender_Male', 'Job Role_Education',\n",
              "       'Job Role_Finance', 'Job Role_Healthcare', 'Job Role_Media',\n",
              "       'Job Role_Technology', 'Work-Life Balance_Excellent',\n",
              "       'Work-Life Balance_Fair', 'Work-Life Balance_Good',\n",
              "       'Work-Life Balance_Poor', 'Job Satisfaction_High',\n",
              "       'Job Satisfaction_Low', 'Job Satisfaction_Medium',\n",
              "       'Job Satisfaction_Very High', 'Performance Rating_Average',\n",
              "       'Performance Rating_Below Average', 'Performance Rating_High',\n",
              "       'Performance Rating_Low', 'Overtime_No', 'Overtime_Yes',\n",
              "       'Education Level_Associate Degree', 'Education Level_Bachelor’s Degree',\n",
              "       'Education Level_High School', 'Education Level_Master’s Degree',\n",
              "       'Education Level_PhD', 'Marital Status_Divorced',\n",
              "       'Marital Status_Married', 'Marital Status_Single', 'Job Level_Entry',\n",
              "       'Job Level_Mid', 'Job Level_Senior', 'Company Size_Large',\n",
              "       'Company Size_Medium', 'Company Size_Small', 'Remote Work_No',\n",
              "       'Remote Work_Yes', 'Leadership Opportunities_No',\n",
              "       'Leadership Opportunities_Yes', 'Innovation Opportunities_No',\n",
              "       'Innovation Opportunities_Yes', 'Company Reputation_Excellent',\n",
              "       'Company Reputation_Fair', 'Company Reputation_Good',\n",
              "       'Company Reputation_Poor', 'Employee Recognition_High',\n",
              "       'Employee Recognition_Low', 'Employee Recognition_Medium',\n",
              "       'Employee Recognition_Very High'],\n",
              "      dtype='object')"
            ]
          },
          "metadata": {},
          "execution_count": 33
        }
      ]
    },
    {
      "cell_type": "code",
      "source": [
        "# Convierto las variables booleanas en binarias donde agrego un condicional para no reemplazar los datos numéricos\n",
        "data_empleados= data_empleados.map(lambda x: 1 if x == True else 0 if x is False else x)\n",
        "data_empleados"
      ],
      "metadata": {
        "colab": {
          "base_uri": "https://localhost:8080/",
          "height": 478
        },
        "id": "1hQVsSUMEPnu",
        "outputId": "500b6f2e-77e1-412f-aeb0-df0e7e8e1ec5"
      },
      "execution_count": 34,
      "outputs": [
        {
          "output_type": "execute_result",
          "data": {
            "text/plain": [
              "       Age  Years at Company  Monthly Income  Number of Promotions  \\\n",
              "0       31                19            5390                     2   \n",
              "1       59                 4            5534                     3   \n",
              "2       24                10            8159                     0   \n",
              "3       36                 7            3989                     1   \n",
              "4       56                41            4821                     0   \n",
              "...    ...               ...             ...                   ...   \n",
              "74492   52                13            9296                     1   \n",
              "74493   56                42            7830                     0   \n",
              "74494   30                15            3856                     2   \n",
              "74495   52                 5            5654                     0   \n",
              "74496   18                 4            5276                     0   \n",
              "\n",
              "       Distance from Home  Number of Dependents Attrition  Gender_Female  \\\n",
              "0                      22                     0    Stayed              0   \n",
              "1                      21                     3    Stayed              1   \n",
              "2                      11                     3    Stayed              1   \n",
              "3                      27                     2    Stayed              1   \n",
              "4                      71                     0    Stayed              0   \n",
              "...                   ...                   ...       ...            ...   \n",
              "74492                  31                     1    Stayed              0   \n",
              "74493                  40                     0    Stayed              1   \n",
              "74494                  45                     0      Left              1   \n",
              "74495                   4                     4      Left              0   \n",
              "74496                  13                     3    Stayed              0   \n",
              "\n",
              "       Gender_Male  Job Role_Education  ...  Innovation Opportunities_No  \\\n",
              "0                1                   1  ...                            1   \n",
              "1                0                   0  ...                            1   \n",
              "2                0                   0  ...                            1   \n",
              "3                0                   1  ...                            1   \n",
              "4                1                   1  ...                            1   \n",
              "...            ...                 ...  ...                          ...   \n",
              "74492            1                   0  ...                            1   \n",
              "74493            0                   0  ...                            1   \n",
              "74494            0                   1  ...                            1   \n",
              "74495            1                   1  ...                            1   \n",
              "74496            1                   1  ...                            1   \n",
              "\n",
              "       Innovation Opportunities_Yes  Company Reputation_Excellent  \\\n",
              "0                                 0                             1   \n",
              "1                                 0                             0   \n",
              "2                                 0                             0   \n",
              "3                                 0                             0   \n",
              "4                                 0                             0   \n",
              "...                             ...                           ...   \n",
              "74492                             0                             0   \n",
              "74493                             0                             0   \n",
              "74494                             0                             0   \n",
              "74495                             0                             0   \n",
              "74496                             0                             0   \n",
              "\n",
              "       Company Reputation_Fair  Company Reputation_Good  \\\n",
              "0                            0                        0   \n",
              "1                            1                        0   \n",
              "2                            0                        0   \n",
              "3                            0                        1   \n",
              "4                            1                        0   \n",
              "...                        ...                      ...   \n",
              "74492                        0                        0   \n",
              "74493                        0                        0   \n",
              "74494                        0                        1   \n",
              "74495                        0                        1   \n",
              "74496                        0                        0   \n",
              "\n",
              "       Company Reputation_Poor  Employee Recognition_High  \\\n",
              "0                            0                          0   \n",
              "1                            0                          0   \n",
              "2                            1                          0   \n",
              "3                            0                          0   \n",
              "4                            0                          0   \n",
              "...                        ...                        ...   \n",
              "74492                        1                          0   \n",
              "74493                        1                          0   \n",
              "74494                        0                          0   \n",
              "74495                        0                          1   \n",
              "74496                        1                          1   \n",
              "\n",
              "       Employee Recognition_Low  Employee Recognition_Medium  \\\n",
              "0                             0                            1   \n",
              "1                             1                            0   \n",
              "2                             1                            0   \n",
              "3                             0                            1   \n",
              "4                             0                            1   \n",
              "...                         ...                          ...   \n",
              "74492                         1                            0   \n",
              "74493                         0                            1   \n",
              "74494                         0                            1   \n",
              "74495                         0                            0   \n",
              "74496                         0                            0   \n",
              "\n",
              "       Employee Recognition_Very High  \n",
              "0                                   0  \n",
              "1                                   0  \n",
              "2                                   0  \n",
              "3                                   0  \n",
              "4                                   0  \n",
              "...                               ...  \n",
              "74492                               0  \n",
              "74493                               0  \n",
              "74494                               0  \n",
              "74495                               0  \n",
              "74496                               0  \n",
              "\n",
              "[74160 rows x 56 columns]"
            ],
            "text/html": [
              "\n",
              "  <div id=\"df-c45542e8-a07b-428d-9583-66ae20a88cf5\" class=\"colab-df-container\">\n",
              "    <div>\n",
              "<style scoped>\n",
              "    .dataframe tbody tr th:only-of-type {\n",
              "        vertical-align: middle;\n",
              "    }\n",
              "\n",
              "    .dataframe tbody tr th {\n",
              "        vertical-align: top;\n",
              "    }\n",
              "\n",
              "    .dataframe thead th {\n",
              "        text-align: right;\n",
              "    }\n",
              "</style>\n",
              "<table border=\"1\" class=\"dataframe\">\n",
              "  <thead>\n",
              "    <tr style=\"text-align: right;\">\n",
              "      <th></th>\n",
              "      <th>Age</th>\n",
              "      <th>Years at Company</th>\n",
              "      <th>Monthly Income</th>\n",
              "      <th>Number of Promotions</th>\n",
              "      <th>Distance from Home</th>\n",
              "      <th>Number of Dependents</th>\n",
              "      <th>Attrition</th>\n",
              "      <th>Gender_Female</th>\n",
              "      <th>Gender_Male</th>\n",
              "      <th>Job Role_Education</th>\n",
              "      <th>...</th>\n",
              "      <th>Innovation Opportunities_No</th>\n",
              "      <th>Innovation Opportunities_Yes</th>\n",
              "      <th>Company Reputation_Excellent</th>\n",
              "      <th>Company Reputation_Fair</th>\n",
              "      <th>Company Reputation_Good</th>\n",
              "      <th>Company Reputation_Poor</th>\n",
              "      <th>Employee Recognition_High</th>\n",
              "      <th>Employee Recognition_Low</th>\n",
              "      <th>Employee Recognition_Medium</th>\n",
              "      <th>Employee Recognition_Very High</th>\n",
              "    </tr>\n",
              "  </thead>\n",
              "  <tbody>\n",
              "    <tr>\n",
              "      <th>0</th>\n",
              "      <td>31</td>\n",
              "      <td>19</td>\n",
              "      <td>5390</td>\n",
              "      <td>2</td>\n",
              "      <td>22</td>\n",
              "      <td>0</td>\n",
              "      <td>Stayed</td>\n",
              "      <td>0</td>\n",
              "      <td>1</td>\n",
              "      <td>1</td>\n",
              "      <td>...</td>\n",
              "      <td>1</td>\n",
              "      <td>0</td>\n",
              "      <td>1</td>\n",
              "      <td>0</td>\n",
              "      <td>0</td>\n",
              "      <td>0</td>\n",
              "      <td>0</td>\n",
              "      <td>0</td>\n",
              "      <td>1</td>\n",
              "      <td>0</td>\n",
              "    </tr>\n",
              "    <tr>\n",
              "      <th>1</th>\n",
              "      <td>59</td>\n",
              "      <td>4</td>\n",
              "      <td>5534</td>\n",
              "      <td>3</td>\n",
              "      <td>21</td>\n",
              "      <td>3</td>\n",
              "      <td>Stayed</td>\n",
              "      <td>1</td>\n",
              "      <td>0</td>\n",
              "      <td>0</td>\n",
              "      <td>...</td>\n",
              "      <td>1</td>\n",
              "      <td>0</td>\n",
              "      <td>0</td>\n",
              "      <td>1</td>\n",
              "      <td>0</td>\n",
              "      <td>0</td>\n",
              "      <td>0</td>\n",
              "      <td>1</td>\n",
              "      <td>0</td>\n",
              "      <td>0</td>\n",
              "    </tr>\n",
              "    <tr>\n",
              "      <th>2</th>\n",
              "      <td>24</td>\n",
              "      <td>10</td>\n",
              "      <td>8159</td>\n",
              "      <td>0</td>\n",
              "      <td>11</td>\n",
              "      <td>3</td>\n",
              "      <td>Stayed</td>\n",
              "      <td>1</td>\n",
              "      <td>0</td>\n",
              "      <td>0</td>\n",
              "      <td>...</td>\n",
              "      <td>1</td>\n",
              "      <td>0</td>\n",
              "      <td>0</td>\n",
              "      <td>0</td>\n",
              "      <td>0</td>\n",
              "      <td>1</td>\n",
              "      <td>0</td>\n",
              "      <td>1</td>\n",
              "      <td>0</td>\n",
              "      <td>0</td>\n",
              "    </tr>\n",
              "    <tr>\n",
              "      <th>3</th>\n",
              "      <td>36</td>\n",
              "      <td>7</td>\n",
              "      <td>3989</td>\n",
              "      <td>1</td>\n",
              "      <td>27</td>\n",
              "      <td>2</td>\n",
              "      <td>Stayed</td>\n",
              "      <td>1</td>\n",
              "      <td>0</td>\n",
              "      <td>1</td>\n",
              "      <td>...</td>\n",
              "      <td>1</td>\n",
              "      <td>0</td>\n",
              "      <td>0</td>\n",
              "      <td>0</td>\n",
              "      <td>1</td>\n",
              "      <td>0</td>\n",
              "      <td>0</td>\n",
              "      <td>0</td>\n",
              "      <td>1</td>\n",
              "      <td>0</td>\n",
              "    </tr>\n",
              "    <tr>\n",
              "      <th>4</th>\n",
              "      <td>56</td>\n",
              "      <td>41</td>\n",
              "      <td>4821</td>\n",
              "      <td>0</td>\n",
              "      <td>71</td>\n",
              "      <td>0</td>\n",
              "      <td>Stayed</td>\n",
              "      <td>0</td>\n",
              "      <td>1</td>\n",
              "      <td>1</td>\n",
              "      <td>...</td>\n",
              "      <td>1</td>\n",
              "      <td>0</td>\n",
              "      <td>0</td>\n",
              "      <td>1</td>\n",
              "      <td>0</td>\n",
              "      <td>0</td>\n",
              "      <td>0</td>\n",
              "      <td>0</td>\n",
              "      <td>1</td>\n",
              "      <td>0</td>\n",
              "    </tr>\n",
              "    <tr>\n",
              "      <th>...</th>\n",
              "      <td>...</td>\n",
              "      <td>...</td>\n",
              "      <td>...</td>\n",
              "      <td>...</td>\n",
              "      <td>...</td>\n",
              "      <td>...</td>\n",
              "      <td>...</td>\n",
              "      <td>...</td>\n",
              "      <td>...</td>\n",
              "      <td>...</td>\n",
              "      <td>...</td>\n",
              "      <td>...</td>\n",
              "      <td>...</td>\n",
              "      <td>...</td>\n",
              "      <td>...</td>\n",
              "      <td>...</td>\n",
              "      <td>...</td>\n",
              "      <td>...</td>\n",
              "      <td>...</td>\n",
              "      <td>...</td>\n",
              "      <td>...</td>\n",
              "    </tr>\n",
              "    <tr>\n",
              "      <th>74492</th>\n",
              "      <td>52</td>\n",
              "      <td>13</td>\n",
              "      <td>9296</td>\n",
              "      <td>1</td>\n",
              "      <td>31</td>\n",
              "      <td>1</td>\n",
              "      <td>Stayed</td>\n",
              "      <td>0</td>\n",
              "      <td>1</td>\n",
              "      <td>0</td>\n",
              "      <td>...</td>\n",
              "      <td>1</td>\n",
              "      <td>0</td>\n",
              "      <td>0</td>\n",
              "      <td>0</td>\n",
              "      <td>0</td>\n",
              "      <td>1</td>\n",
              "      <td>0</td>\n",
              "      <td>1</td>\n",
              "      <td>0</td>\n",
              "      <td>0</td>\n",
              "    </tr>\n",
              "    <tr>\n",
              "      <th>74493</th>\n",
              "      <td>56</td>\n",
              "      <td>42</td>\n",
              "      <td>7830</td>\n",
              "      <td>0</td>\n",
              "      <td>40</td>\n",
              "      <td>0</td>\n",
              "      <td>Stayed</td>\n",
              "      <td>1</td>\n",
              "      <td>0</td>\n",
              "      <td>0</td>\n",
              "      <td>...</td>\n",
              "      <td>1</td>\n",
              "      <td>0</td>\n",
              "      <td>0</td>\n",
              "      <td>0</td>\n",
              "      <td>0</td>\n",
              "      <td>1</td>\n",
              "      <td>0</td>\n",
              "      <td>0</td>\n",
              "      <td>1</td>\n",
              "      <td>0</td>\n",
              "    </tr>\n",
              "    <tr>\n",
              "      <th>74494</th>\n",
              "      <td>30</td>\n",
              "      <td>15</td>\n",
              "      <td>3856</td>\n",
              "      <td>2</td>\n",
              "      <td>45</td>\n",
              "      <td>0</td>\n",
              "      <td>Left</td>\n",
              "      <td>1</td>\n",
              "      <td>0</td>\n",
              "      <td>1</td>\n",
              "      <td>...</td>\n",
              "      <td>1</td>\n",
              "      <td>0</td>\n",
              "      <td>0</td>\n",
              "      <td>0</td>\n",
              "      <td>1</td>\n",
              "      <td>0</td>\n",
              "      <td>0</td>\n",
              "      <td>0</td>\n",
              "      <td>1</td>\n",
              "      <td>0</td>\n",
              "    </tr>\n",
              "    <tr>\n",
              "      <th>74495</th>\n",
              "      <td>52</td>\n",
              "      <td>5</td>\n",
              "      <td>5654</td>\n",
              "      <td>0</td>\n",
              "      <td>4</td>\n",
              "      <td>4</td>\n",
              "      <td>Left</td>\n",
              "      <td>0</td>\n",
              "      <td>1</td>\n",
              "      <td>1</td>\n",
              "      <td>...</td>\n",
              "      <td>1</td>\n",
              "      <td>0</td>\n",
              "      <td>0</td>\n",
              "      <td>0</td>\n",
              "      <td>1</td>\n",
              "      <td>0</td>\n",
              "      <td>1</td>\n",
              "      <td>0</td>\n",
              "      <td>0</td>\n",
              "      <td>0</td>\n",
              "    </tr>\n",
              "    <tr>\n",
              "      <th>74496</th>\n",
              "      <td>18</td>\n",
              "      <td>4</td>\n",
              "      <td>5276</td>\n",
              "      <td>0</td>\n",
              "      <td>13</td>\n",
              "      <td>3</td>\n",
              "      <td>Stayed</td>\n",
              "      <td>0</td>\n",
              "      <td>1</td>\n",
              "      <td>1</td>\n",
              "      <td>...</td>\n",
              "      <td>1</td>\n",
              "      <td>0</td>\n",
              "      <td>0</td>\n",
              "      <td>0</td>\n",
              "      <td>0</td>\n",
              "      <td>1</td>\n",
              "      <td>1</td>\n",
              "      <td>0</td>\n",
              "      <td>0</td>\n",
              "      <td>0</td>\n",
              "    </tr>\n",
              "  </tbody>\n",
              "</table>\n",
              "<p>74160 rows × 56 columns</p>\n",
              "</div>\n",
              "    <div class=\"colab-df-buttons\">\n",
              "\n",
              "  <div class=\"colab-df-container\">\n",
              "    <button class=\"colab-df-convert\" onclick=\"convertToInteractive('df-c45542e8-a07b-428d-9583-66ae20a88cf5')\"\n",
              "            title=\"Convert this dataframe to an interactive table.\"\n",
              "            style=\"display:none;\">\n",
              "\n",
              "  <svg xmlns=\"http://www.w3.org/2000/svg\" height=\"24px\" viewBox=\"0 -960 960 960\">\n",
              "    <path d=\"M120-120v-720h720v720H120Zm60-500h600v-160H180v160Zm220 220h160v-160H400v160Zm0 220h160v-160H400v160ZM180-400h160v-160H180v160Zm440 0h160v-160H620v160ZM180-180h160v-160H180v160Zm440 0h160v-160H620v160Z\"/>\n",
              "  </svg>\n",
              "    </button>\n",
              "\n",
              "  <style>\n",
              "    .colab-df-container {\n",
              "      display:flex;\n",
              "      gap: 12px;\n",
              "    }\n",
              "\n",
              "    .colab-df-convert {\n",
              "      background-color: #E8F0FE;\n",
              "      border: none;\n",
              "      border-radius: 50%;\n",
              "      cursor: pointer;\n",
              "      display: none;\n",
              "      fill: #1967D2;\n",
              "      height: 32px;\n",
              "      padding: 0 0 0 0;\n",
              "      width: 32px;\n",
              "    }\n",
              "\n",
              "    .colab-df-convert:hover {\n",
              "      background-color: #E2EBFA;\n",
              "      box-shadow: 0px 1px 2px rgba(60, 64, 67, 0.3), 0px 1px 3px 1px rgba(60, 64, 67, 0.15);\n",
              "      fill: #174EA6;\n",
              "    }\n",
              "\n",
              "    .colab-df-buttons div {\n",
              "      margin-bottom: 4px;\n",
              "    }\n",
              "\n",
              "    [theme=dark] .colab-df-convert {\n",
              "      background-color: #3B4455;\n",
              "      fill: #D2E3FC;\n",
              "    }\n",
              "\n",
              "    [theme=dark] .colab-df-convert:hover {\n",
              "      background-color: #434B5C;\n",
              "      box-shadow: 0px 1px 3px 1px rgba(0, 0, 0, 0.15);\n",
              "      filter: drop-shadow(0px 1px 2px rgba(0, 0, 0, 0.3));\n",
              "      fill: #FFFFFF;\n",
              "    }\n",
              "  </style>\n",
              "\n",
              "    <script>\n",
              "      const buttonEl =\n",
              "        document.querySelector('#df-c45542e8-a07b-428d-9583-66ae20a88cf5 button.colab-df-convert');\n",
              "      buttonEl.style.display =\n",
              "        google.colab.kernel.accessAllowed ? 'block' : 'none';\n",
              "\n",
              "      async function convertToInteractive(key) {\n",
              "        const element = document.querySelector('#df-c45542e8-a07b-428d-9583-66ae20a88cf5');\n",
              "        const dataTable =\n",
              "          await google.colab.kernel.invokeFunction('convertToInteractive',\n",
              "                                                    [key], {});\n",
              "        if (!dataTable) return;\n",
              "\n",
              "        const docLinkHtml = 'Like what you see? Visit the ' +\n",
              "          '<a target=\"_blank\" href=https://colab.research.google.com/notebooks/data_table.ipynb>data table notebook</a>'\n",
              "          + ' to learn more about interactive tables.';\n",
              "        element.innerHTML = '';\n",
              "        dataTable['output_type'] = 'display_data';\n",
              "        await google.colab.output.renderOutput(dataTable, element);\n",
              "        const docLink = document.createElement('div');\n",
              "        docLink.innerHTML = docLinkHtml;\n",
              "        element.appendChild(docLink);\n",
              "      }\n",
              "    </script>\n",
              "  </div>\n",
              "\n",
              "\n",
              "<div id=\"df-953edd23-3802-4444-881a-ff1ee0555c85\">\n",
              "  <button class=\"colab-df-quickchart\" onclick=\"quickchart('df-953edd23-3802-4444-881a-ff1ee0555c85')\"\n",
              "            title=\"Suggest charts\"\n",
              "            style=\"display:none;\">\n",
              "\n",
              "<svg xmlns=\"http://www.w3.org/2000/svg\" height=\"24px\"viewBox=\"0 0 24 24\"\n",
              "     width=\"24px\">\n",
              "    <g>\n",
              "        <path d=\"M19 3H5c-1.1 0-2 .9-2 2v14c0 1.1.9 2 2 2h14c1.1 0 2-.9 2-2V5c0-1.1-.9-2-2-2zM9 17H7v-7h2v7zm4 0h-2V7h2v10zm4 0h-2v-4h2v4z\"/>\n",
              "    </g>\n",
              "</svg>\n",
              "  </button>\n",
              "\n",
              "<style>\n",
              "  .colab-df-quickchart {\n",
              "      --bg-color: #E8F0FE;\n",
              "      --fill-color: #1967D2;\n",
              "      --hover-bg-color: #E2EBFA;\n",
              "      --hover-fill-color: #174EA6;\n",
              "      --disabled-fill-color: #AAA;\n",
              "      --disabled-bg-color: #DDD;\n",
              "  }\n",
              "\n",
              "  [theme=dark] .colab-df-quickchart {\n",
              "      --bg-color: #3B4455;\n",
              "      --fill-color: #D2E3FC;\n",
              "      --hover-bg-color: #434B5C;\n",
              "      --hover-fill-color: #FFFFFF;\n",
              "      --disabled-bg-color: #3B4455;\n",
              "      --disabled-fill-color: #666;\n",
              "  }\n",
              "\n",
              "  .colab-df-quickchart {\n",
              "    background-color: var(--bg-color);\n",
              "    border: none;\n",
              "    border-radius: 50%;\n",
              "    cursor: pointer;\n",
              "    display: none;\n",
              "    fill: var(--fill-color);\n",
              "    height: 32px;\n",
              "    padding: 0;\n",
              "    width: 32px;\n",
              "  }\n",
              "\n",
              "  .colab-df-quickchart:hover {\n",
              "    background-color: var(--hover-bg-color);\n",
              "    box-shadow: 0 1px 2px rgba(60, 64, 67, 0.3), 0 1px 3px 1px rgba(60, 64, 67, 0.15);\n",
              "    fill: var(--button-hover-fill-color);\n",
              "  }\n",
              "\n",
              "  .colab-df-quickchart-complete:disabled,\n",
              "  .colab-df-quickchart-complete:disabled:hover {\n",
              "    background-color: var(--disabled-bg-color);\n",
              "    fill: var(--disabled-fill-color);\n",
              "    box-shadow: none;\n",
              "  }\n",
              "\n",
              "  .colab-df-spinner {\n",
              "    border: 2px solid var(--fill-color);\n",
              "    border-color: transparent;\n",
              "    border-bottom-color: var(--fill-color);\n",
              "    animation:\n",
              "      spin 1s steps(1) infinite;\n",
              "  }\n",
              "\n",
              "  @keyframes spin {\n",
              "    0% {\n",
              "      border-color: transparent;\n",
              "      border-bottom-color: var(--fill-color);\n",
              "      border-left-color: var(--fill-color);\n",
              "    }\n",
              "    20% {\n",
              "      border-color: transparent;\n",
              "      border-left-color: var(--fill-color);\n",
              "      border-top-color: var(--fill-color);\n",
              "    }\n",
              "    30% {\n",
              "      border-color: transparent;\n",
              "      border-left-color: var(--fill-color);\n",
              "      border-top-color: var(--fill-color);\n",
              "      border-right-color: var(--fill-color);\n",
              "    }\n",
              "    40% {\n",
              "      border-color: transparent;\n",
              "      border-right-color: var(--fill-color);\n",
              "      border-top-color: var(--fill-color);\n",
              "    }\n",
              "    60% {\n",
              "      border-color: transparent;\n",
              "      border-right-color: var(--fill-color);\n",
              "    }\n",
              "    80% {\n",
              "      border-color: transparent;\n",
              "      border-right-color: var(--fill-color);\n",
              "      border-bottom-color: var(--fill-color);\n",
              "    }\n",
              "    90% {\n",
              "      border-color: transparent;\n",
              "      border-bottom-color: var(--fill-color);\n",
              "    }\n",
              "  }\n",
              "</style>\n",
              "\n",
              "  <script>\n",
              "    async function quickchart(key) {\n",
              "      const quickchartButtonEl =\n",
              "        document.querySelector('#' + key + ' button');\n",
              "      quickchartButtonEl.disabled = true;  // To prevent multiple clicks.\n",
              "      quickchartButtonEl.classList.add('colab-df-spinner');\n",
              "      try {\n",
              "        const charts = await google.colab.kernel.invokeFunction(\n",
              "            'suggestCharts', [key], {});\n",
              "      } catch (error) {\n",
              "        console.error('Error during call to suggestCharts:', error);\n",
              "      }\n",
              "      quickchartButtonEl.classList.remove('colab-df-spinner');\n",
              "      quickchartButtonEl.classList.add('colab-df-quickchart-complete');\n",
              "    }\n",
              "    (() => {\n",
              "      let quickchartButtonEl =\n",
              "        document.querySelector('#df-953edd23-3802-4444-881a-ff1ee0555c85 button');\n",
              "      quickchartButtonEl.style.display =\n",
              "        google.colab.kernel.accessAllowed ? 'block' : 'none';\n",
              "    })();\n",
              "  </script>\n",
              "</div>\n",
              "\n",
              "  <div id=\"id_a9914963-6cc8-402b-b038-40df34eddaab\">\n",
              "    <style>\n",
              "      .colab-df-generate {\n",
              "        background-color: #E8F0FE;\n",
              "        border: none;\n",
              "        border-radius: 50%;\n",
              "        cursor: pointer;\n",
              "        display: none;\n",
              "        fill: #1967D2;\n",
              "        height: 32px;\n",
              "        padding: 0 0 0 0;\n",
              "        width: 32px;\n",
              "      }\n",
              "\n",
              "      .colab-df-generate:hover {\n",
              "        background-color: #E2EBFA;\n",
              "        box-shadow: 0px 1px 2px rgba(60, 64, 67, 0.3), 0px 1px 3px 1px rgba(60, 64, 67, 0.15);\n",
              "        fill: #174EA6;\n",
              "      }\n",
              "\n",
              "      [theme=dark] .colab-df-generate {\n",
              "        background-color: #3B4455;\n",
              "        fill: #D2E3FC;\n",
              "      }\n",
              "\n",
              "      [theme=dark] .colab-df-generate:hover {\n",
              "        background-color: #434B5C;\n",
              "        box-shadow: 0px 1px 3px 1px rgba(0, 0, 0, 0.15);\n",
              "        filter: drop-shadow(0px 1px 2px rgba(0, 0, 0, 0.3));\n",
              "        fill: #FFFFFF;\n",
              "      }\n",
              "    </style>\n",
              "    <button class=\"colab-df-generate\" onclick=\"generateWithVariable('data_empleados')\"\n",
              "            title=\"Generate code using this dataframe.\"\n",
              "            style=\"display:none;\">\n",
              "\n",
              "  <svg xmlns=\"http://www.w3.org/2000/svg\" height=\"24px\"viewBox=\"0 0 24 24\"\n",
              "       width=\"24px\">\n",
              "    <path d=\"M7,19H8.4L18.45,9,17,7.55,7,17.6ZM5,21V16.75L18.45,3.32a2,2,0,0,1,2.83,0l1.4,1.43a1.91,1.91,0,0,1,.58,1.4,1.91,1.91,0,0,1-.58,1.4L9.25,21ZM18.45,9,17,7.55Zm-12,3A5.31,5.31,0,0,0,4.9,8.1,5.31,5.31,0,0,0,1,6.5,5.31,5.31,0,0,0,4.9,4.9,5.31,5.31,0,0,0,6.5,1,5.31,5.31,0,0,0,8.1,4.9,5.31,5.31,0,0,0,12,6.5,5.46,5.46,0,0,0,6.5,12Z\"/>\n",
              "  </svg>\n",
              "    </button>\n",
              "    <script>\n",
              "      (() => {\n",
              "      const buttonEl =\n",
              "        document.querySelector('#id_a9914963-6cc8-402b-b038-40df34eddaab button.colab-df-generate');\n",
              "      buttonEl.style.display =\n",
              "        google.colab.kernel.accessAllowed ? 'block' : 'none';\n",
              "\n",
              "      buttonEl.onclick = () => {\n",
              "        google.colab.notebook.generateWithVariable('data_empleados');\n",
              "      }\n",
              "      })();\n",
              "    </script>\n",
              "  </div>\n",
              "\n",
              "    </div>\n",
              "  </div>\n"
            ],
            "application/vnd.google.colaboratory.intrinsic+json": {
              "type": "dataframe",
              "variable_name": "data_empleados"
            }
          },
          "metadata": {},
          "execution_count": 34
        }
      ]
    },
    {
      "cell_type": "code",
      "source": [
        "# Selecciono la variable objetivo (Y) y variables independientes (X)\n",
        "X = data_empleados.drop(columns=['Attrition'])\n",
        "y = data_empleados['Attrition']\n"
      ],
      "metadata": {
        "id": "3VU5rSWsGeBv"
      },
      "execution_count": 35,
      "outputs": []
    },
    {
      "cell_type": "markdown",
      "source": [
        "## Training"
      ],
      "metadata": {
        "id": "uYbOAl5LRMol"
      }
    },
    {
      "cell_type": "markdown",
      "source": [
        "\n",
        "Elijo un modelo de aprendizaje supervisado para esta base de datos porque el objetivo principal es predecir una variable categórica específica: la renuncia de empleados, representada como 'Attrition'. En este contexto, el aprendizaje supervisado es especialmente adecuado ya que se basa en un conjunto de datos etiquetados, donde conocemos las salidas correspondientes a las entradas. Esto permite entrenar el modelo utilizando ejemplos históricos de empleados que han renunciado y aquellos que se han quedado, lo que facilita la identificación de patrones y relaciones en los datos."
      ],
      "metadata": {
        "id": "s3EO9Qdmbz73"
      }
    },
    {
      "cell_type": "markdown",
      "source": [
        "### Regresión Logística"
      ],
      "metadata": {
        "id": "JGsvGKldRWdi"
      }
    },
    {
      "cell_type": "markdown",
      "source": [
        "Como primer modelo que utilizo para analizar es el de Regresión Logística ya que creo que es una técnica ideal para modelar la probabilidad de renuncia de empleados en función de diversas características, ya que permite analizar y cuantificar la relación entre variables independientes (tanto categóricas como continuas) y una variable dependiente binaria."
      ],
      "metadata": {
        "id": "wPL6MBqDRaUK"
      }
    },
    {
      "cell_type": "code",
      "source": [
        "# Importo librerías\n",
        "from sklearn.datasets import load_breast_cancer\n",
        "from sklearn.linear_model import LogisticRegression\n",
        "from sklearn.metrics import accuracy_score\n",
        "from sklearn.model_selection import train_test_split\n",
        "from sklearn.metrics import confusion_matrix\n",
        "from sklearn.metrics import classification_report"
      ],
      "metadata": {
        "id": "o7pfLTOAHkuq"
      },
      "execution_count": 36,
      "outputs": []
    },
    {
      "cell_type": "code",
      "source": [
        "# Defino datos de entrenamiento (70%) y datos de prueba(30%) .\n",
        "# Random_state:Establece una semilla de números aleatorios que asegura que el código sea reproducible cada vez que lo corra.\n",
        "# shuffle=True: Mezcla el orden de los datos para evitar sesgos.\n",
        "X_train, X_test, y_train, y_test = train_test_split(X, y, test_size=0.3, random_state=42,shuffle=True)"
      ],
      "metadata": {
        "id": "DjdcfeLWpKRd"
      },
      "execution_count": 37,
      "outputs": []
    },
    {
      "cell_type": "code",
      "source": [
        "# Creo el modelo de regresión logística\n",
        "modelo = LogisticRegression(max_iter=1000)\n",
        "\n",
        "# Entreno el modelo\n",
        "modelo.fit(X_train, y_train)\n",
        "\n",
        "# Realizo predicciones en el conjunto de pruebas\n",
        "y_pred = modelo.predict(X_test)"
      ],
      "metadata": {
        "colab": {
          "base_uri": "https://localhost:8080/"
        },
        "id": "7EKx3qOgqlDF",
        "outputId": "d341970d-c151-46a3-a11d-418d0d6866c0"
      },
      "execution_count": 38,
      "outputs": [
        {
          "output_type": "stream",
          "name": "stderr",
          "text": [
            "/usr/local/lib/python3.10/dist-packages/sklearn/linear_model/_logistic.py:469: ConvergenceWarning: lbfgs failed to converge (status=1):\n",
            "STOP: TOTAL NO. of ITERATIONS REACHED LIMIT.\n",
            "\n",
            "Increase the number of iterations (max_iter) or scale the data as shown in:\n",
            "    https://scikit-learn.org/stable/modules/preprocessing.html\n",
            "Please also refer to the documentation for alternative solver options:\n",
            "    https://scikit-learn.org/stable/modules/linear_model.html#logistic-regression\n",
            "  n_iter_i = _check_optimize_result(\n"
          ]
        }
      ]
    },
    {
      "cell_type": "code",
      "source": [
        "print(\"Matriz de confusión:\")\n",
        "print(confusion_matrix(y_test, y_pred))"
      ],
      "metadata": {
        "colab": {
          "base_uri": "https://localhost:8080/"
        },
        "id": "5ioe9cuetzKn",
        "outputId": "4e1a1bb0-aa7d-41df-a623-9e454329e388"
      },
      "execution_count": 39,
      "outputs": [
        {
          "output_type": "stream",
          "name": "stdout",
          "text": [
            "Matriz de confusión:\n",
            "[[7791 2824]\n",
            " [2675 8958]]\n"
          ]
        }
      ]
    },
    {
      "cell_type": "code",
      "source": [
        "# Gráfico de Matriz de Confusión\n",
        "rl_matrix = confusion_matrix(y_test, y_pred)\n",
        "ax = sns.heatmap(rl_matrix, annot=True, fmt='g', cmap='Blues')\n",
        "ax.set_title('Matriz de confusion para Regresión Logística con labels\\n\\n');\n",
        "ax.set_xlabel('\\nValores predichos')\n",
        "ax.set_ylabel('Valores reales ');\n",
        "ax.xaxis.set_ticklabels(['No Renunció', 'Sí Renunció'])\n",
        "ax.yaxis.set_ticklabels(['No Renunció', 'Sí Renunció'])\n",
        "plt.show()"
      ],
      "metadata": {
        "colab": {
          "base_uri": "https://localhost:8080/",
          "height": 530
        },
        "id": "WqUoqoPq8bJ9",
        "outputId": "6c311085-c651-4961-cffe-782c6b5bc479"
      },
      "execution_count": 40,
      "outputs": [
        {
          "output_type": "display_data",
          "data": {
            "text/plain": [
              "<Figure size 640x480 with 2 Axes>"
            ],
            "image/png": "[encoded data removed]"
          },
          "metadata": {}
        }
      ]
    },
    {
      "cell_type": "markdown",
      "source": [
        "La matriz de confusión muestra cómo se comportó el modelo en términos de verdaderos positivos, falsos positivos, verdaderos negativos y falsos negativos:\n",
        "\n",
        "- 7791 (Verdaderos Negativos): Empleados que se quedaron y el modelo predijo correctamente que se quedarían.\n",
        "- 2824 (Falsos Positivos): Empleados que se quedaron, pero el modelo predijo que renunciarían.\n",
        "- 2675 (Falsos Negativos): Empleados que renunciaron, pero el modelo predijo que se quedarían.\n",
        "- 8958 (Verdaderos Positivos): Empleados que renunciaron y el modelo predijo correctamente que renunciarían."
      ],
      "metadata": {
        "id": "hww_d5Ab_OaL"
      }
    },
    {
      "cell_type": "code",
      "source": [
        "# Obtenemos un informe que muestra las métricas de rendimiento del modelo\n",
        "print(\"\\nReporte de clasificación:\")\n",
        "print(classification_report(y_test, y_pred))"
      ],
      "metadata": {
        "colab": {
          "base_uri": "https://localhost:8080/"
        },
        "id": "tNHocx8GyFSv",
        "outputId": "eab9eb66-b72e-499b-8f73-d2c69fba85a3"
      },
      "execution_count": 41,
      "outputs": [
        {
          "output_type": "stream",
          "name": "stdout",
          "text": [
            "\n",
            "Reporte de clasificación:\n",
            "              precision    recall  f1-score   support\n",
            "\n",
            "        Left       0.74      0.73      0.74     10615\n",
            "      Stayed       0.76      0.77      0.77     11633\n",
            "\n",
            "    accuracy                           0.75     22248\n",
            "   macro avg       0.75      0.75      0.75     22248\n",
            "weighted avg       0.75      0.75      0.75     22248\n",
            "\n"
          ]
        }
      ]
    },
    {
      "cell_type": "markdown",
      "source": [
        "Como resultado tenemos:\n",
        " * En Precisión : Proporción de verdaderos positivos respecto a todas las predicciones positivas.\n",
        "    - Left (Renunció): 0.74 significa que de todas las veces que el modelo predijo que un empleado renunciaría, el 74% fueron correctas\n",
        "    - Stayed (Se quedó): 0.76 significa que de todas las veces que el modelo predijo que un empleado se quedaría, el 76% fueron correctas.\n",
        "\n",
        " * En Recall : Proporción de verdaderos positivos sobre el total de verdaderos positivos y falsos negativos.\n",
        "    - Left (Renunció): 0.73 indica que el modelo identificó correctamente el 73% de los empleados que realmente renunciaron.\n",
        "    - Stayed (Se quedó): 0.77 indica que el modelo identificó correctamente el 77% de los empleados que realmente se quedaron.\n",
        "\n",
        " * En F1-Score: Una medida combinada de precisión y recall.\n",
        "    - Left: 0.74\n",
        "    - Stayed: 0.77\n",
        "  Esto indica un buen equilibrio entre precisión y recall para ambas clases."
      ],
      "metadata": {
        "id": "250UYJCE7NMm"
      }
    },
    {
      "cell_type": "code",
      "source": [
        "# Calculamos la precisión general del modelo\n",
        "accuracy = accuracy_score(y_test, y_pred)\n",
        "print(f\"Precisión del modelo: {accuracy:.2f}\")"
      ],
      "metadata": {
        "colab": {
          "base_uri": "https://localhost:8080/"
        },
        "id": "qdFMysTTyIQT",
        "outputId": "52d256d5-4b1a-4930-d760-5472e2dcad38"
      },
      "execution_count": 42,
      "outputs": [
        {
          "output_type": "stream",
          "name": "stdout",
          "text": [
            "Precisión del modelo: 0.75\n"
          ]
        }
      ]
    },
    {
      "cell_type": "markdown",
      "source": [
        "### K-Nearest Neighbors (KNN)"
      ],
      "metadata": {
        "id": "w89O9c1x_yR5"
      }
    },
    {
      "cell_type": "markdown",
      "source": [
        "El modelo KNN es un algoritmo de clasificación que se basa en la idea de que las instancias que están más cercanas entre sí son más similares."
      ],
      "metadata": {
        "id": "oFKO5CnEgJ1n"
      }
    },
    {
      "cell_type": "code",
      "source": [
        "# Importo librerías\n",
        "from sklearn.neighbors import KNeighborsClassifier\n",
        "from sklearn.metrics import confusion_matrix, classification_report, accuracy_score"
      ],
      "metadata": {
        "id": "b21zA5LYyTx-"
      },
      "execution_count": 43,
      "outputs": []
    },
    {
      "cell_type": "markdown",
      "source": [
        "Como ya tengo definidos los datos de entrenamiento de entrenamiento gracias al modelo anterior no es necesario redefinirlos."
      ],
      "metadata": {
        "id": "NWPzthCWilGx"
      }
    },
    {
      "cell_type": "code",
      "source": [
        "# Creo una instancia\n",
        "knn = KNeighborsClassifier(n_neighbors=5)\n",
        "\n",
        "# Entrenar el modelo\n",
        "knn.fit(X_train, y_train)\n",
        "\n",
        "# Realizar predicciones\n",
        "y_pred = knn.predict(X_test)\n",
        "\n",
        "# Evaluar el modelo\n",
        "print(\"Matriz de confusión:\")\n",
        "print(confusion_matrix(y_test, y_pred))\n",
        "\n",
        "print(\"\\nReporte de clasificación:\")\n",
        "print(classification_report(y_test, y_pred))\n",
        "\n",
        "accuracy = accuracy_score(y_test, y_pred)\n",
        "print(f\"Precisión del modelo: {accuracy:.2f}\")"
      ],
      "metadata": {
        "colab": {
          "base_uri": "https://localhost:8080/"
        },
        "id": "iA_3GqUgienu",
        "outputId": "4d86f165-3c95-4f9f-b426-352dc6ba0125"
      },
      "execution_count": 44,
      "outputs": [
        {
          "output_type": "stream",
          "name": "stdout",
          "text": [
            "Matriz de confusión:\n",
            "[[5026 5589]\n",
            " [5078 6555]]\n",
            "\n",
            "Reporte de clasificación:\n",
            "              precision    recall  f1-score   support\n",
            "\n",
            "        Left       0.50      0.47      0.49     10615\n",
            "      Stayed       0.54      0.56      0.55     11633\n",
            "\n",
            "    accuracy                           0.52     22248\n",
            "   macro avg       0.52      0.52      0.52     22248\n",
            "weighted avg       0.52      0.52      0.52     22248\n",
            "\n",
            "Precisión del modelo: 0.52\n"
          ]
        }
      ]
    },
    {
      "cell_type": "code",
      "source": [
        "# Gráfico de Matriz de Confusión para KNN\n",
        "knn_matrix = confusion_matrix(y_test, y_pred)\n",
        "ax = sns.heatmap(knn_matrix, annot=True, fmt='g', cmap='Blues')\n",
        "ax.set_title('Matriz de confusion para KNN con labels\\n\\n');\n",
        "ax.set_xlabel('\\nValores predichos')\n",
        "ax.set_ylabel('Valores reales ');\n",
        "ax.xaxis.set_ticklabels(['No Renunció', 'Sí Renunció'])\n",
        "ax.yaxis.set_ticklabels(['No Renunció', 'Sí Renunció'])\n",
        "plt.show()"
      ],
      "metadata": {
        "colab": {
          "base_uri": "https://localhost:8080/",
          "height": 530
        },
        "id": "YFN0IWEvnwVu",
        "outputId": "afddd955-4e47-4fb6-dbe8-79c8230000f7"
      },
      "execution_count": 45,
      "outputs": [
        {
          "output_type": "display_data",
          "data": {
            "text/plain": [
              "<Figure size 640x480 with 2 Axes>"
            ],
            "image/png": "[encoded data removed]"
          },
          "metadata": {}
        }
      ]
    },
    {
      "cell_type": "markdown",
      "source": [
        "### Random Forest"
      ],
      "metadata": {
        "id": "5Ckn6FQ3pCpz"
      }
    },
    {
      "cell_type": "markdown",
      "source": [
        "Como último modelo de pruebo utilizo Random Forest"
      ],
      "metadata": {
        "id": "wYmfsO8epKkp"
      }
    },
    {
      "cell_type": "code",
      "source": [
        "# Importo las librerías correspondientes a Random Forest\n",
        "from sklearn.ensemble import RandomForestClassifier"
      ],
      "metadata": {
        "id": "ApMXTgyYpCMD"
      },
      "execution_count": 46,
      "outputs": []
    },
    {
      "cell_type": "code",
      "source": [
        "# Creo el modelo\n",
        "modelo_rf = RandomForestClassifier(n_jobs=-1)\n",
        "\n",
        "# Entreno el modelo\n",
        "modelo_rf.fit(X_train, y_train)\n",
        "\n",
        "# Realizo predicciones\n",
        "y_pred = modelo_rf.predict(X_test)\n",
        "\n",
        "# Evalúo el modelo\n",
        "print(\"Matriz de confusión:\")\n",
        "print(confusion_matrix(y_test, y_pred))\n",
        "\n",
        "print(\"\\nReporte de clasificación:\")\n",
        "print(classification_report(y_test, y_pred))\n",
        "\n",
        "accuracy_rf = accuracy_score(y_test, y_pred)\n",
        "print(f\"Precisión del modelo: {accuracy_rf:.2f}\")"
      ],
      "metadata": {
        "colab": {
          "base_uri": "https://localhost:8080/"
        },
        "id": "8nZg2eIEsrUb",
        "outputId": "3567b814-9241-4de1-c4c1-b482e5ac6774"
      },
      "execution_count": 47,
      "outputs": [
        {
          "output_type": "stream",
          "name": "stdout",
          "text": [
            "Matriz de confusión:\n",
            "[[7809 2806]\n",
            " [2831 8802]]\n",
            "\n",
            "Reporte de clasificación:\n",
            "              precision    recall  f1-score   support\n",
            "\n",
            "        Left       0.73      0.74      0.73     10615\n",
            "      Stayed       0.76      0.76      0.76     11633\n",
            "\n",
            "    accuracy                           0.75     22248\n",
            "   macro avg       0.75      0.75      0.75     22248\n",
            "weighted avg       0.75      0.75      0.75     22248\n",
            "\n",
            "Precisión del modelo: 0.75\n"
          ]
        }
      ]
    },
    {
      "cell_type": "code",
      "source": [
        "# Gráfico de Matriz de Confusión para Random Forest\n",
        "rf_matrix = confusion_matrix(y_test, y_pred)\n",
        "ax = sns.heatmap(rf_matrix, annot=True, fmt='g', cmap='Blues')\n",
        "ax.set_title('Matriz de confusion para Random Forest con labels\\n\\n');\n",
        "ax.set_xlabel('\\nValores predichos')\n",
        "ax.set_ylabel('Valores reales ');\n",
        "ax.xaxis.set_ticklabels(['No Renunció', 'Sí Renunció'])\n",
        "ax.yaxis.set_ticklabels(['No Renunció', 'Sí Renunció'])\n",
        "plt.show()"
      ],
      "metadata": {
        "colab": {
          "base_uri": "https://localhost:8080/",
          "height": 530
        },
        "id": "i6eWVjaJuQXk",
        "outputId": "2817f2b8-7068-4234-898a-c91046851966"
      },
      "execution_count": 48,
      "outputs": [
        {
          "output_type": "display_data",
          "data": {
            "text/plain": [
              "<Figure size 640x480 with 2 Axes>"
            ],
            "image/png": "[encoded data removed]"
          },
          "metadata": {}
        }
      ]
    },
    {
      "cell_type": "markdown",
      "source": [
        "# Conclusiones"
      ],
      "metadata": {
        "id": "FjpejneVAbCU"
      }
    },
    {
      "cell_type": "markdown",
      "source": [
        "Los resultados de la evaluación de los modelos de clasificación muestran diferencias significativas en su capacidad para predecir la renuncia de empleados. Tanto el modelo de Regresión Logística como el de Random Forest alcanzan una precisión del 75%, lo que indica que son eficaces en la identificación de empleados que permanecen en la empresa y aquellos que renuncian. Las métricas de precisión y recall son coherentes entre ambos modelos, sugiriendo que son herramientas confiables para esta tarea. En contraste, el modelo KNN presenta un rendimiento mucho más bajo, con una precisión del 52%, lo que indica que no es adecuado para este tipo de análisis. En resumen, la Regresión Logística y el Random Forest son opciones sólidas para abordar la predicción de renuncias, mientras que el modelo KNN no logra cumplir con las expectativas en esta base de datos."
      ],
      "metadata": {
        "id": "RPXdLBnYJKBV"
      }
    }
  ]
}